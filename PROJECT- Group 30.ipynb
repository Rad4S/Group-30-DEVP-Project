{
 "cells": [
  {
   "cell_type": "markdown",
   "id": "8fc34461-451d-4280-a26b-5a2046361a99",
   "metadata": {},
   "source": [
    "# PROJECT REPORT on Imports and Exports Data Analysis\n",
    "\n",
    "\n",
    "**Project Information**\n",
    "\n",
    "\n",
    "* **Project Title**: Comprehensive Analysis of Imports and Exports Dataset\n",
    "* **Student Name**: Radhika Sarin, Amitanshu Tiwari\n",
    "* **Enrollment Number** : 055035 , 055054\n",
    "\n",
    "---\n"
   ]
  },
  {
   "cell_type": "code",
   "execution_count": 2,
   "id": "1aa17022-dc44-44b5-80ac-9044106b610d",
   "metadata": {},
   "outputs": [],
   "source": [
    "# Importing Relevant Python Libraries.\n",
    "import pandas as pd\n",
    "import numpy as np"
   ]
  },
  {
   "cell_type": "code",
   "execution_count": 3,
   "id": "b3ab6c98-3e32-4d3e-82fa-d5afbb57c4d5",
   "metadata": {},
   "outputs": [],
   "source": [
    "# Loading the Data.\n",
    "Population_data = pd.read_csv(\"D:/Imports_Exports_Dataset.csv\")"
   ]
  },
  {
   "cell_type": "code",
   "execution_count": 4,
   "id": "3da21b9c-3a91-41b5-b3d7-6101e39ebd4c",
   "metadata": {},
   "outputs": [
    {
     "data": {
      "text/plain": [
       "(15000, 16)"
      ]
     },
     "execution_count": 4,
     "metadata": {},
     "output_type": "execute_result"
    }
   ],
   "source": [
    "# Dimensions of Data.\n",
    "Population_data.shape"
   ]
  },
  {
   "cell_type": "code",
   "execution_count": 5,
   "id": "eae41ff1-61bd-4412-b7ef-89d6eb1aef16",
   "metadata": {},
   "outputs": [],
   "source": [
    "# Creating an Unique Sample of 2001 Records using Student Roll Number as Random State.\n",
    "Sample_data = Population_data.sample(n=2001 , random_state= 55035)"
   ]
  },
  {
   "cell_type": "code",
   "execution_count": 6,
   "id": "18aaf9d9-94e5-4836-bd6c-9935fbc3ce95",
   "metadata": {},
   "outputs": [
    {
     "data": {
      "text/plain": [
       "(2001, 16)"
      ]
     },
     "execution_count": 6,
     "metadata": {},
     "output_type": "execute_result"
    }
   ],
   "source": [
    "# Dimensions of Sample Data.\n",
    "Sample_data.shape"
   ]
  },
  {
   "cell_type": "code",
   "execution_count": 7,
   "id": "a275ff0d-1f47-45f5-83f7-062875ee8401",
   "metadata": {},
   "outputs": [
    {
     "name": "stdout",
     "output_type": "stream",
     "text": [
      "<class 'pandas.core.frame.DataFrame'>\n",
      "Index: 2001 entries, 2588 to 4502\n",
      "Data columns (total 16 columns):\n",
      " #   Column           Non-Null Count  Dtype  \n",
      "---  ------           --------------  -----  \n",
      " 0   Transaction_ID   2001 non-null   object \n",
      " 1   Country          2001 non-null   object \n",
      " 2   Product          2001 non-null   object \n",
      " 3   Import_Export    2001 non-null   object \n",
      " 4   Quantity         2001 non-null   int64  \n",
      " 5   Value            2001 non-null   float64\n",
      " 6   Date             2001 non-null   object \n",
      " 7   Category         2001 non-null   object \n",
      " 8   Port             2001 non-null   object \n",
      " 9   Customs_Code     2001 non-null   int64  \n",
      " 10  Weight           2001 non-null   float64\n",
      " 11  Shipping_Method  2001 non-null   object \n",
      " 12  Supplier         2001 non-null   object \n",
      " 13  Customer         2001 non-null   object \n",
      " 14  Invoice_Number   2001 non-null   int64  \n",
      " 15  Payment_Terms    2001 non-null   object \n",
      "dtypes: float64(2), int64(3), object(11)\n",
      "memory usage: 265.8+ KB\n"
     ]
    }
   ],
   "source": [
    "# Sample Data Information.\n",
    "Sample_data.info()"
   ]
  },
  {
   "cell_type": "code",
   "execution_count": 8,
   "id": "2a9dae43-e316-4f3d-b5e6-fd96e33ca618",
   "metadata": {},
   "outputs": [
    {
     "data": {
      "text/html": [
       "<div>\n",
       "<style scoped>\n",
       "    .dataframe tbody tr th:only-of-type {\n",
       "        vertical-align: middle;\n",
       "    }\n",
       "\n",
       "    .dataframe tbody tr th {\n",
       "        vertical-align: top;\n",
       "    }\n",
       "\n",
       "    .dataframe thead th {\n",
       "        text-align: right;\n",
       "    }\n",
       "</style>\n",
       "<table border=\"1\" class=\"dataframe\">\n",
       "  <thead>\n",
       "    <tr style=\"text-align: right;\">\n",
       "      <th></th>\n",
       "      <th>Transaction_ID</th>\n",
       "      <th>Country</th>\n",
       "      <th>Product</th>\n",
       "      <th>Import_Export</th>\n",
       "      <th>Quantity</th>\n",
       "      <th>Value</th>\n",
       "      <th>Date</th>\n",
       "      <th>Category</th>\n",
       "      <th>Port</th>\n",
       "      <th>Customs_Code</th>\n",
       "      <th>Weight</th>\n",
       "      <th>Shipping_Method</th>\n",
       "      <th>Supplier</th>\n",
       "      <th>Customer</th>\n",
       "      <th>Invoice_Number</th>\n",
       "      <th>Payment_Terms</th>\n",
       "    </tr>\n",
       "  </thead>\n",
       "  <tbody>\n",
       "    <tr>\n",
       "      <th>2588</th>\n",
       "      <td>9206d547-d6a2-4182-8b2a-8be7a85b3447</td>\n",
       "      <td>Algeria</td>\n",
       "      <td>out</td>\n",
       "      <td>Import</td>\n",
       "      <td>644</td>\n",
       "      <td>8173.14</td>\n",
       "      <td>04-08-2021</td>\n",
       "      <td>Toys</td>\n",
       "      <td>East Heatherton</td>\n",
       "      <td>457712</td>\n",
       "      <td>484.56</td>\n",
       "      <td>Sea</td>\n",
       "      <td>Skinner-Raymond</td>\n",
       "      <td>Scott Rollins</td>\n",
       "      <td>88113442</td>\n",
       "      <td>Cash on Delivery</td>\n",
       "    </tr>\n",
       "    <tr>\n",
       "      <th>14945</th>\n",
       "      <td>f6bfeb5d-5214-4d0a-bbaf-27d6d46d7d93</td>\n",
       "      <td>Bahrain</td>\n",
       "      <td>happen</td>\n",
       "      <td>Import</td>\n",
       "      <td>5232</td>\n",
       "      <td>3041.22</td>\n",
       "      <td>16-01-2024</td>\n",
       "      <td>Furniture</td>\n",
       "      <td>Shannonhaven</td>\n",
       "      <td>136225</td>\n",
       "      <td>3551.67</td>\n",
       "      <td>Air</td>\n",
       "      <td>Price, Ellis and Lamb</td>\n",
       "      <td>Kristen Stark</td>\n",
       "      <td>76685413</td>\n",
       "      <td>Cash on Delivery</td>\n",
       "    </tr>\n",
       "    <tr>\n",
       "      <th>10967</th>\n",
       "      <td>8164cfef-2c85-4c0d-9d7f-cb1753adaec7</td>\n",
       "      <td>Ecuador</td>\n",
       "      <td>box</td>\n",
       "      <td>Import</td>\n",
       "      <td>5763</td>\n",
       "      <td>9394.50</td>\n",
       "      <td>09-06-2023</td>\n",
       "      <td>Machinery</td>\n",
       "      <td>Smithchester</td>\n",
       "      <td>597279</td>\n",
       "      <td>620.47</td>\n",
       "      <td>Sea</td>\n",
       "      <td>Conley, Higgins and Woods</td>\n",
       "      <td>Scott Garcia</td>\n",
       "      <td>69598344</td>\n",
       "      <td>Net 60</td>\n",
       "    </tr>\n",
       "    <tr>\n",
       "      <th>7274</th>\n",
       "      <td>c7ad3340-032d-4808-b2a8-eb24d5635e77</td>\n",
       "      <td>Moldova</td>\n",
       "      <td>decision</td>\n",
       "      <td>Export</td>\n",
       "      <td>9897</td>\n",
       "      <td>833.71</td>\n",
       "      <td>04-01-2023</td>\n",
       "      <td>Clothing</td>\n",
       "      <td>Jessicafort</td>\n",
       "      <td>806581</td>\n",
       "      <td>2050.92</td>\n",
       "      <td>Land</td>\n",
       "      <td>Green-Hanson</td>\n",
       "      <td>Hayden Schmidt</td>\n",
       "      <td>39352095</td>\n",
       "      <td>Net 30</td>\n",
       "    </tr>\n",
       "    <tr>\n",
       "      <th>5687</th>\n",
       "      <td>cd07a569-9a4f-42b8-89ea-58558acac842</td>\n",
       "      <td>Saint Lucia</td>\n",
       "      <td>woman</td>\n",
       "      <td>Import</td>\n",
       "      <td>6610</td>\n",
       "      <td>152.15</td>\n",
       "      <td>20-02-2024</td>\n",
       "      <td>Furniture</td>\n",
       "      <td>East Daniel</td>\n",
       "      <td>764106</td>\n",
       "      <td>574.17</td>\n",
       "      <td>Air</td>\n",
       "      <td>Barrett Group</td>\n",
       "      <td>William Riddle</td>\n",
       "      <td>10601069</td>\n",
       "      <td>Prepaid</td>\n",
       "    </tr>\n",
       "  </tbody>\n",
       "</table>\n",
       "</div>"
      ],
      "text/plain": [
       "                             Transaction_ID      Country   Product  \\\n",
       "2588   9206d547-d6a2-4182-8b2a-8be7a85b3447      Algeria       out   \n",
       "14945  f6bfeb5d-5214-4d0a-bbaf-27d6d46d7d93      Bahrain    happen   \n",
       "10967  8164cfef-2c85-4c0d-9d7f-cb1753adaec7      Ecuador       box   \n",
       "7274   c7ad3340-032d-4808-b2a8-eb24d5635e77      Moldova  decision   \n",
       "5687   cd07a569-9a4f-42b8-89ea-58558acac842  Saint Lucia     woman   \n",
       "\n",
       "      Import_Export  Quantity    Value        Date   Category  \\\n",
       "2588         Import       644  8173.14  04-08-2021       Toys   \n",
       "14945        Import      5232  3041.22  16-01-2024  Furniture   \n",
       "10967        Import      5763  9394.50  09-06-2023  Machinery   \n",
       "7274         Export      9897   833.71  04-01-2023   Clothing   \n",
       "5687         Import      6610   152.15  20-02-2024  Furniture   \n",
       "\n",
       "                  Port  Customs_Code   Weight Shipping_Method  \\\n",
       "2588   East Heatherton        457712   484.56             Sea   \n",
       "14945     Shannonhaven        136225  3551.67             Air   \n",
       "10967     Smithchester        597279   620.47             Sea   \n",
       "7274       Jessicafort        806581  2050.92            Land   \n",
       "5687       East Daniel        764106   574.17             Air   \n",
       "\n",
       "                        Supplier        Customer  Invoice_Number  \\\n",
       "2588             Skinner-Raymond   Scott Rollins        88113442   \n",
       "14945      Price, Ellis and Lamb   Kristen Stark        76685413   \n",
       "10967  Conley, Higgins and Woods    Scott Garcia        69598344   \n",
       "7274                Green-Hanson  Hayden Schmidt        39352095   \n",
       "5687               Barrett Group  William Riddle        10601069   \n",
       "\n",
       "          Payment_Terms  \n",
       "2588   Cash on Delivery  \n",
       "14945  Cash on Delivery  \n",
       "10967            Net 60  \n",
       "7274             Net 30  \n",
       "5687            Prepaid  "
      ]
     },
     "execution_count": 8,
     "metadata": {},
     "output_type": "execute_result"
    }
   ],
   "source": [
    "# First 05 Records of the Sample Data\n",
    "Sample_data.head(5)"
   ]
  },
  {
   "cell_type": "code",
   "execution_count": 9,
   "id": "8715946c-e386-4490-a524-d396da4f96e1",
   "metadata": {},
   "outputs": [
    {
     "data": {
      "text/plain": [
       "Index(['Transaction_ID', 'Country', 'Product', 'Import_Export', 'Quantity',\n",
       "       'Value', 'Date', 'Category', 'Port', 'Customs_Code', 'Weight',\n",
       "       'Shipping_Method', 'Supplier', 'Customer', 'Invoice_Number',\n",
       "       'Payment_Terms'],\n",
       "      dtype='object')"
      ]
     },
     "execution_count": 9,
     "metadata": {},
     "output_type": "execute_result"
    }
   ],
   "source": [
    "# Names of Variables\n",
    "Sample_data.columns"
   ]
  },
  {
   "cell_type": "markdown",
   "id": "c6d20b64-4e25-4f67-ac63-d25e4304e38c",
   "metadata": {},
   "source": [
    "# **Description of Data**\n",
    "\n",
    "*   Data Source: https://www.kaggle.com/datasets/chakilamvishwas/imports-exports-15000\n",
    "*   Data Size: 1 MB\n",
    "\n",
    "*   Data Type: Panel\n",
    "\n",
    "*   Data Dimension: There are 16 variables and 15,000 observations\n",
    "\n",
    "*   Data Variable Type:\n",
    "\n",
    "Sr. No. | Data Variable | Type |\n",
    "| --- | --- | --- |\n",
    "| 1. | Transaction ID | Text\n",
    "| 2. | Country | Text\n",
    "| 3. | Product | Text\n",
    "| 4. | Import Export | Text\n",
    "| 5. | Quantity | Number {Integer}\n",
    "| 6. | Value | Number {Decimal}\n",
    "| 7. | Date | Number {Integer}\n",
    "| 8. | Category | Text\n",
    "| 9. | Port | Text\n",
    "| 10.| Customs Code | Number {Integer}\n",
    "| 11.| Weight | Number {Decimal}\n",
    "| 12.| Shipping Method | Text\n",
    "| 13.| Supplier | Text\n",
    "| 14.| Customer | Text\n",
    "| 15.| Invoice Number | Number {Integer}\n",
    "| 16.| Payment Terms | Text\n",
    "\n",
    "*   Data Variable Category:\n",
    "\n",
    "Sr. No. | Data Variable | Category |\n",
    "| --- | --- | --- |\n",
    "| 1. | Transaction ID | Index\n",
    "| 2. | Country | Categorical {Nominal}\n",
    "| 3. | Product | Categorical {Nominal}\n",
    "| 4. | Import Export | Categorical {Nominal}\n",
    "| 5. | Quantity | Non-Categorical\n",
    "| 6. | Value | Non-Categorical\n",
    "| 7. | Date | Non-Categorical\n",
    "| 8. | Category | Categorical {Nominal}\n",
    "| 9. | Port | Categorical {Nominal}\n",
    "| 10.| Customs Code | Non-Categorical\n",
    "| 11.| Weight | Non-Categorical\n",
    "| 12.| Shipping Method | Categorical {Nominal} \n",
    "| 13.| Supplier | Categorical {Nominal} \n",
    "| 14.| Customer | Categorical {Nominal} \n",
    "| 15.| Invoice Number | Non-Categorical\n",
    "| 16.| Payment Terms | Categorical {Ordinal} \n",
    "\n",
    "---"
   ]
  },
  {
   "cell_type": "code",
   "execution_count": 11,
   "id": "9465c6ff-0c76-4ff1-a800-0ebb55b38a47",
   "metadata": {},
   "outputs": [
    {
     "data": {
      "text/html": [
       "<div>\n",
       "<style scoped>\n",
       "    .dataframe tbody tr th:only-of-type {\n",
       "        vertical-align: middle;\n",
       "    }\n",
       "\n",
       "    .dataframe tbody tr th {\n",
       "        vertical-align: top;\n",
       "    }\n",
       "\n",
       "    .dataframe thead th {\n",
       "        text-align: right;\n",
       "    }\n",
       "</style>\n",
       "<table border=\"1\" class=\"dataframe\">\n",
       "  <thead>\n",
       "    <tr style=\"text-align: right;\">\n",
       "      <th></th>\n",
       "      <th>Quantity</th>\n",
       "      <th>Value</th>\n",
       "      <th>Customs_Code</th>\n",
       "      <th>Weight</th>\n",
       "    </tr>\n",
       "  </thead>\n",
       "  <tbody>\n",
       "    <tr>\n",
       "      <th>2588</th>\n",
       "      <td>644</td>\n",
       "      <td>8173.14</td>\n",
       "      <td>457712</td>\n",
       "      <td>484.56</td>\n",
       "    </tr>\n",
       "    <tr>\n",
       "      <th>14945</th>\n",
       "      <td>5232</td>\n",
       "      <td>3041.22</td>\n",
       "      <td>136225</td>\n",
       "      <td>3551.67</td>\n",
       "    </tr>\n",
       "    <tr>\n",
       "      <th>10967</th>\n",
       "      <td>5763</td>\n",
       "      <td>9394.50</td>\n",
       "      <td>597279</td>\n",
       "      <td>620.47</td>\n",
       "    </tr>\n",
       "    <tr>\n",
       "      <th>7274</th>\n",
       "      <td>9897</td>\n",
       "      <td>833.71</td>\n",
       "      <td>806581</td>\n",
       "      <td>2050.92</td>\n",
       "    </tr>\n",
       "    <tr>\n",
       "      <th>5687</th>\n",
       "      <td>6610</td>\n",
       "      <td>152.15</td>\n",
       "      <td>764106</td>\n",
       "      <td>574.17</td>\n",
       "    </tr>\n",
       "    <tr>\n",
       "      <th>...</th>\n",
       "      <td>...</td>\n",
       "      <td>...</td>\n",
       "      <td>...</td>\n",
       "      <td>...</td>\n",
       "    </tr>\n",
       "    <tr>\n",
       "      <th>4507</th>\n",
       "      <td>4208</td>\n",
       "      <td>8311.66</td>\n",
       "      <td>752442</td>\n",
       "      <td>1808.18</td>\n",
       "    </tr>\n",
       "    <tr>\n",
       "      <th>11962</th>\n",
       "      <td>5102</td>\n",
       "      <td>8464.34</td>\n",
       "      <td>430621</td>\n",
       "      <td>4136.47</td>\n",
       "    </tr>\n",
       "    <tr>\n",
       "      <th>817</th>\n",
       "      <td>2449</td>\n",
       "      <td>7145.28</td>\n",
       "      <td>593141</td>\n",
       "      <td>1443.68</td>\n",
       "    </tr>\n",
       "    <tr>\n",
       "      <th>8964</th>\n",
       "      <td>1053</td>\n",
       "      <td>2392.79</td>\n",
       "      <td>639501</td>\n",
       "      <td>4939.24</td>\n",
       "    </tr>\n",
       "    <tr>\n",
       "      <th>4502</th>\n",
       "      <td>8282</td>\n",
       "      <td>518.26</td>\n",
       "      <td>125513</td>\n",
       "      <td>4079.61</td>\n",
       "    </tr>\n",
       "  </tbody>\n",
       "</table>\n",
       "<p>2001 rows × 4 columns</p>\n",
       "</div>"
      ],
      "text/plain": [
       "       Quantity    Value  Customs_Code   Weight\n",
       "2588        644  8173.14        457712   484.56\n",
       "14945      5232  3041.22        136225  3551.67\n",
       "10967      5763  9394.50        597279   620.47\n",
       "7274       9897   833.71        806581  2050.92\n",
       "5687       6610   152.15        764106   574.17\n",
       "...         ...      ...           ...      ...\n",
       "4507       4208  8311.66        752442  1808.18\n",
       "11962      5102  8464.34        430621  4136.47\n",
       "817        2449  7145.28        593141  1443.68\n",
       "8964       1053  2392.79        639501  4939.24\n",
       "4502       8282   518.26        125513  4079.61\n",
       "\n",
       "[2001 rows x 4 columns]"
      ]
     },
     "metadata": {},
     "output_type": "display_data"
    }
   ],
   "source": [
    "# Subseting the Non-Categorical Variables.\n",
    "non_categorical_columns = ['Quantity', 'Value', 'Customs_Code', 'Weight']\n",
    "non_categorical_df = Sample_data[non_categorical_columns]\n",
    "display(non_categorical_df)"
   ]
  },
  {
   "cell_type": "code",
   "execution_count": 12,
   "id": "98293622-2512-410e-9887-b88f2bf6d257",
   "metadata": {},
   "outputs": [
    {
     "data": {
      "text/html": [
       "<div>\n",
       "<style scoped>\n",
       "    .dataframe tbody tr th:only-of-type {\n",
       "        vertical-align: middle;\n",
       "    }\n",
       "\n",
       "    .dataframe tbody tr th {\n",
       "        vertical-align: top;\n",
       "    }\n",
       "\n",
       "    .dataframe thead th {\n",
       "        text-align: right;\n",
       "    }\n",
       "</style>\n",
       "<table border=\"1\" class=\"dataframe\">\n",
       "  <thead>\n",
       "    <tr style=\"text-align: right;\">\n",
       "      <th></th>\n",
       "      <th>Quantity</th>\n",
       "      <th>Value</th>\n",
       "      <th>Customs_Code</th>\n",
       "      <th>Weight</th>\n",
       "    </tr>\n",
       "  </thead>\n",
       "  <tbody>\n",
       "    <tr>\n",
       "      <th>count</th>\n",
       "      <td>2001.000000</td>\n",
       "      <td>2001.000000</td>\n",
       "      <td>2001.000000</td>\n",
       "      <td>2001.000000</td>\n",
       "    </tr>\n",
       "    <tr>\n",
       "      <th>mean</th>\n",
       "      <td>4937.412294</td>\n",
       "      <td>4992.788381</td>\n",
       "      <td>547492.816592</td>\n",
       "      <td>2435.743623</td>\n",
       "    </tr>\n",
       "    <tr>\n",
       "      <th>std</th>\n",
       "      <td>2883.422789</td>\n",
       "      <td>2833.743394</td>\n",
       "      <td>259420.002302</td>\n",
       "      <td>1440.426027</td>\n",
       "    </tr>\n",
       "    <tr>\n",
       "      <th>min</th>\n",
       "      <td>15.000000</td>\n",
       "      <td>102.870000</td>\n",
       "      <td>100041.000000</td>\n",
       "      <td>1.640000</td>\n",
       "    </tr>\n",
       "    <tr>\n",
       "      <th>25%</th>\n",
       "      <td>2402.000000</td>\n",
       "      <td>2627.820000</td>\n",
       "      <td>329246.000000</td>\n",
       "      <td>1204.860000</td>\n",
       "    </tr>\n",
       "    <tr>\n",
       "      <th>50%</th>\n",
       "      <td>4928.000000</td>\n",
       "      <td>4884.700000</td>\n",
       "      <td>533503.000000</td>\n",
       "      <td>2370.070000</td>\n",
       "    </tr>\n",
       "    <tr>\n",
       "      <th>75%</th>\n",
       "      <td>7391.000000</td>\n",
       "      <td>7453.220000</td>\n",
       "      <td>775756.000000</td>\n",
       "      <td>3641.090000</td>\n",
       "    </tr>\n",
       "    <tr>\n",
       "      <th>max</th>\n",
       "      <td>9995.000000</td>\n",
       "      <td>9989.330000</td>\n",
       "      <td>999705.000000</td>\n",
       "      <td>4999.930000</td>\n",
       "    </tr>\n",
       "  </tbody>\n",
       "</table>\n",
       "</div>"
      ],
      "text/plain": [
       "          Quantity        Value   Customs_Code       Weight\n",
       "count  2001.000000  2001.000000    2001.000000  2001.000000\n",
       "mean   4937.412294  4992.788381  547492.816592  2435.743623\n",
       "std    2883.422789  2833.743394  259420.002302  1440.426027\n",
       "min      15.000000   102.870000  100041.000000     1.640000\n",
       "25%    2402.000000  2627.820000  329246.000000  1204.860000\n",
       "50%    4928.000000  4884.700000  533503.000000  2370.070000\n",
       "75%    7391.000000  7453.220000  775756.000000  3641.090000\n",
       "max    9995.000000  9989.330000  999705.000000  4999.930000"
      ]
     },
     "metadata": {},
     "output_type": "display_data"
    }
   ],
   "source": [
    "# Descriptive Statistics of the Non-Categorical Set.\n",
    "non_categorical_stats = non_categorical_df.describe()\n",
    "\n",
    "# Display the statistics\n",
    "display(non_categorical_stats)"
   ]
  },
  {
   "cell_type": "code",
   "execution_count": 13,
   "id": "7d4d09a3-d2b5-4c36-b7b0-c4b99251eb08",
   "metadata": {},
   "outputs": [
    {
     "data": {
      "text/html": [
       "<div>\n",
       "<style scoped>\n",
       "    .dataframe tbody tr th:only-of-type {\n",
       "        vertical-align: middle;\n",
       "    }\n",
       "\n",
       "    .dataframe tbody tr th {\n",
       "        vertical-align: top;\n",
       "    }\n",
       "\n",
       "    .dataframe thead th {\n",
       "        text-align: right;\n",
       "    }\n",
       "</style>\n",
       "<table border=\"1\" class=\"dataframe\">\n",
       "  <thead>\n",
       "    <tr style=\"text-align: right;\">\n",
       "      <th></th>\n",
       "      <th>Country</th>\n",
       "      <th>Product</th>\n",
       "      <th>Import_Export</th>\n",
       "      <th>Category</th>\n",
       "      <th>Port</th>\n",
       "      <th>Shipping_Method</th>\n",
       "      <th>Supplier</th>\n",
       "      <th>Customer</th>\n",
       "      <th>Payment_Terms</th>\n",
       "    </tr>\n",
       "  </thead>\n",
       "  <tbody>\n",
       "    <tr>\n",
       "      <th>2588</th>\n",
       "      <td>Algeria</td>\n",
       "      <td>out</td>\n",
       "      <td>Import</td>\n",
       "      <td>Toys</td>\n",
       "      <td>East Heatherton</td>\n",
       "      <td>Sea</td>\n",
       "      <td>Skinner-Raymond</td>\n",
       "      <td>Scott Rollins</td>\n",
       "      <td>Cash on Delivery</td>\n",
       "    </tr>\n",
       "    <tr>\n",
       "      <th>14945</th>\n",
       "      <td>Bahrain</td>\n",
       "      <td>happen</td>\n",
       "      <td>Import</td>\n",
       "      <td>Furniture</td>\n",
       "      <td>Shannonhaven</td>\n",
       "      <td>Air</td>\n",
       "      <td>Price, Ellis and Lamb</td>\n",
       "      <td>Kristen Stark</td>\n",
       "      <td>Cash on Delivery</td>\n",
       "    </tr>\n",
       "    <tr>\n",
       "      <th>10967</th>\n",
       "      <td>Ecuador</td>\n",
       "      <td>box</td>\n",
       "      <td>Import</td>\n",
       "      <td>Machinery</td>\n",
       "      <td>Smithchester</td>\n",
       "      <td>Sea</td>\n",
       "      <td>Conley, Higgins and Woods</td>\n",
       "      <td>Scott Garcia</td>\n",
       "      <td>Net 60</td>\n",
       "    </tr>\n",
       "    <tr>\n",
       "      <th>7274</th>\n",
       "      <td>Moldova</td>\n",
       "      <td>decision</td>\n",
       "      <td>Export</td>\n",
       "      <td>Clothing</td>\n",
       "      <td>Jessicafort</td>\n",
       "      <td>Land</td>\n",
       "      <td>Green-Hanson</td>\n",
       "      <td>Hayden Schmidt</td>\n",
       "      <td>Net 30</td>\n",
       "    </tr>\n",
       "    <tr>\n",
       "      <th>5687</th>\n",
       "      <td>Saint Lucia</td>\n",
       "      <td>woman</td>\n",
       "      <td>Import</td>\n",
       "      <td>Furniture</td>\n",
       "      <td>East Daniel</td>\n",
       "      <td>Air</td>\n",
       "      <td>Barrett Group</td>\n",
       "      <td>William Riddle</td>\n",
       "      <td>Prepaid</td>\n",
       "    </tr>\n",
       "    <tr>\n",
       "      <th>...</th>\n",
       "      <td>...</td>\n",
       "      <td>...</td>\n",
       "      <td>...</td>\n",
       "      <td>...</td>\n",
       "      <td>...</td>\n",
       "      <td>...</td>\n",
       "      <td>...</td>\n",
       "      <td>...</td>\n",
       "      <td>...</td>\n",
       "    </tr>\n",
       "    <tr>\n",
       "      <th>4507</th>\n",
       "      <td>Egypt</td>\n",
       "      <td>under</td>\n",
       "      <td>Import</td>\n",
       "      <td>Toys</td>\n",
       "      <td>Lake Ericmouth</td>\n",
       "      <td>Air</td>\n",
       "      <td>Anderson PLC</td>\n",
       "      <td>Barbara Bender</td>\n",
       "      <td>Prepaid</td>\n",
       "    </tr>\n",
       "    <tr>\n",
       "      <th>11962</th>\n",
       "      <td>Lesotho</td>\n",
       "      <td>reality</td>\n",
       "      <td>Import</td>\n",
       "      <td>Electronics</td>\n",
       "      <td>West Tony</td>\n",
       "      <td>Sea</td>\n",
       "      <td>Kim PLC</td>\n",
       "      <td>Mark Ramsey</td>\n",
       "      <td>Net 60</td>\n",
       "    </tr>\n",
       "    <tr>\n",
       "      <th>817</th>\n",
       "      <td>Yemen</td>\n",
       "      <td>box</td>\n",
       "      <td>Import</td>\n",
       "      <td>Electronics</td>\n",
       "      <td>Lake Jessica</td>\n",
       "      <td>Sea</td>\n",
       "      <td>Whitaker-Miller</td>\n",
       "      <td>Spencer Evans</td>\n",
       "      <td>Prepaid</td>\n",
       "    </tr>\n",
       "    <tr>\n",
       "      <th>8964</th>\n",
       "      <td>Saint Vincent and the Grenadines</td>\n",
       "      <td>treat</td>\n",
       "      <td>Import</td>\n",
       "      <td>Clothing</td>\n",
       "      <td>New Rebekahstad</td>\n",
       "      <td>Air</td>\n",
       "      <td>Williams PLC</td>\n",
       "      <td>Alicia Graham</td>\n",
       "      <td>Net 30</td>\n",
       "    </tr>\n",
       "    <tr>\n",
       "      <th>4502</th>\n",
       "      <td>Tajikistan</td>\n",
       "      <td>direction</td>\n",
       "      <td>Export</td>\n",
       "      <td>Furniture</td>\n",
       "      <td>East Tonya</td>\n",
       "      <td>Sea</td>\n",
       "      <td>Scott, Washington and Johnson</td>\n",
       "      <td>Christopher Hubbard</td>\n",
       "      <td>Net 30</td>\n",
       "    </tr>\n",
       "  </tbody>\n",
       "</table>\n",
       "<p>2001 rows × 9 columns</p>\n",
       "</div>"
      ],
      "text/plain": [
       "                                Country    Product Import_Export     Category  \\\n",
       "2588                            Algeria        out        Import         Toys   \n",
       "14945                           Bahrain     happen        Import    Furniture   \n",
       "10967                           Ecuador        box        Import    Machinery   \n",
       "7274                            Moldova   decision        Export     Clothing   \n",
       "5687                        Saint Lucia      woman        Import    Furniture   \n",
       "...                                 ...        ...           ...          ...   \n",
       "4507                              Egypt      under        Import         Toys   \n",
       "11962                           Lesotho    reality        Import  Electronics   \n",
       "817                               Yemen        box        Import  Electronics   \n",
       "8964   Saint Vincent and the Grenadines      treat        Import     Clothing   \n",
       "4502                         Tajikistan  direction        Export    Furniture   \n",
       "\n",
       "                  Port Shipping_Method                       Supplier  \\\n",
       "2588   East Heatherton             Sea                Skinner-Raymond   \n",
       "14945     Shannonhaven             Air          Price, Ellis and Lamb   \n",
       "10967     Smithchester             Sea      Conley, Higgins and Woods   \n",
       "7274       Jessicafort            Land                   Green-Hanson   \n",
       "5687       East Daniel             Air                  Barrett Group   \n",
       "...                ...             ...                            ...   \n",
       "4507    Lake Ericmouth             Air                   Anderson PLC   \n",
       "11962        West Tony             Sea                        Kim PLC   \n",
       "817       Lake Jessica             Sea                Whitaker-Miller   \n",
       "8964   New Rebekahstad             Air                   Williams PLC   \n",
       "4502        East Tonya             Sea  Scott, Washington and Johnson   \n",
       "\n",
       "                  Customer     Payment_Terms  \n",
       "2588         Scott Rollins  Cash on Delivery  \n",
       "14945        Kristen Stark  Cash on Delivery  \n",
       "10967         Scott Garcia            Net 60  \n",
       "7274        Hayden Schmidt            Net 30  \n",
       "5687        William Riddle           Prepaid  \n",
       "...                    ...               ...  \n",
       "4507        Barbara Bender           Prepaid  \n",
       "11962          Mark Ramsey            Net 60  \n",
       "817          Spencer Evans           Prepaid  \n",
       "8964         Alicia Graham            Net 30  \n",
       "4502   Christopher Hubbard            Net 30  \n",
       "\n",
       "[2001 rows x 9 columns]"
      ]
     },
     "execution_count": 13,
     "metadata": {},
     "output_type": "execute_result"
    }
   ],
   "source": [
    "#Subseting the Categorical Variables.\n",
    "categorical_variables = [\"Country\", \"Product\", \"Import_Export\", \"Category\", \"Port\", \"Shipping_Method\", \"Supplier\", \"Customer\", \"Payment_Terms\"\n",
    "\n",
    "]\n",
    "IE_categorical = Sample_data[categorical_variables]\n",
    "IE_categorical"
   ]
  },
  {
   "cell_type": "code",
   "execution_count": 14,
   "id": "96dc5afb-3dfe-41b4-a7e1-6e47273bc6d8",
   "metadata": {},
   "outputs": [
    {
     "data": {
      "text/plain": [
       "Category\n",
       "Furniture      418\n",
       "Clothing       406\n",
       "Electronics    405\n",
       "Toys           389\n",
       "Machinery      383\n",
       "Name: count, dtype: int64"
      ]
     },
     "execution_count": 14,
     "metadata": {},
     "output_type": "execute_result"
    }
   ],
   "source": [
    "#Descriptive Statistics of Any 01 Categorical Variable.\n",
    "Sample_data[\"Category\"].value_counts()"
   ]
  },
  {
   "cell_type": "markdown",
   "id": "e226e4ba-a4c2-460e-a64b-0c20bc68a34f",
   "metadata": {},
   "source": [
    "# **Project Objectives | Problem Statements**\n",
    "\n",
    "* Objective 1: Identify key trends in import and export activities across different countries and product categories.\n",
    "* Objective 2: Understand the distribution of transaction values and quantities across various categories.\n",
    "* Objective 3: Analyze the most frequently used shipping methods and their relationship to transaction value and weight.\n",
    "  \n",
    "* Problem Statement 1: How do different countries vary in terms of the volume and value of imports and exports?\n",
    "* Problem Statement 2: Are there specific product categories that dominate in terms of trade volume and value?\n",
    "* Problem Statement 3: What are the most commonly used shipping methods for high-value transactions?"
   ]
  },
  {
   "cell_type": "markdown",
   "id": "de999e0e-a7e6-423f-b49d-f00c625747b4",
   "metadata": {},
   "source": [
    "## **1.Descriptive Statistics**\n",
    "**Measures of Central Tendency**"
   ]
  },
  {
   "cell_type": "code",
   "execution_count": 17,
   "id": "1ffadd3d-aa79-4de1-8324-9ba2261d688d",
   "metadata": {},
   "outputs": [
    {
     "name": "stdout",
     "output_type": "stream",
     "text": [
      "Mean:\n",
      " Quantity    4937.41\n",
      "Value       4992.79\n",
      "Weight      2435.74\n",
      "dtype: float64\n",
      "\n",
      "Median:\n",
      " Quantity    4928.00\n",
      "Value       4884.70\n",
      "Weight      2370.07\n",
      "dtype: float64\n",
      "\n",
      "Mode:\n",
      "     Weight\n",
      "0  1633.20\n",
      "1  2451.55\n",
      "2  3021.55\n",
      "3  4664.88\n",
      "4  4695.06\n",
      "5  4927.00\n"
     ]
    }
   ],
   "source": [
    "# Mean, Median, Mode\n",
    "non_categorical_df_1 = non_categorical_df = Sample_data[[\"Quantity\", \"Value\", \"Weight\"]] \n",
    "mean_values = non_categorical_df_1.mean()\n",
    "median_values = non_categorical_df_1.median()\n",
    "mode_values = Sample_data[[\"Weight\"]].mode()\n",
    "\n",
    "print(\"Mean:\\n\", round(mean_values,2))\n",
    "print()\n",
    "print(\"Median:\\n\", median_values)\n",
    "print()\n",
    "print(\"Mode:\\n\", mode_values)"
   ]
  },
  {
   "cell_type": "markdown",
   "id": "0d80ec5e-c571-4799-8340-d1145e9dee1e",
   "metadata": {},
   "source": [
    "**Mean Interpretation:**\n",
    "\n",
    "Quantity (Mean: 4937.41): On average, the dataset shows that the quantity of goods involved in the transactions is approximately 4937.41 units.\n",
    "Value (Mean: 4992.79): The mean value of the goods in each transaction is around 4992.79, suggesting the general average transaction value across the dataset.\n",
    "\n",
    "Weight (Mean: 2435.74): The average weight of the goods in each transaction is approximately 2435.74 units, indicating the typical weight being handled per transaction.\n",
    "\n",
    "**Median Interpretation:**\n",
    "Quantity (Median: 4928.00): The median quantity is 4928 units, meaning that half of the transactions have a quantity below 4928, and the other half have a quantity above it.\n",
    "\n",
    "Value (Median: 4884.70): The median value is 4884.70, indicating that half of the transactions are valued below this amount and half are above it. Since the median is slightly lower than the mean, there may be some higher-value transactions pulling the mean up.\n",
    "\n",
    "Weight (Median: 2370.07): The median weight is 2370.07 units, meaning the central value of the dataset is around this number. The close proximity of the mean and median suggests a relatively even distribution without major outliers.\n",
    "\n",
    "**Mode Interpretation:**\n",
    "Weight (Modes: 1633.20, 2451.55, 3021.55, 4664.88, 4695.06, 4927.00): Since there are multiple modes for the weight, this suggests that the data is multimodal, meaning several specific weights appear frequently. These weights likely correspond to common transaction types or shipment sizes that occur repeatedly.\n",
    "\n",
    "****Summary:****\n",
    "The mean and median for Quantity, Value, and Weight are relatively close, suggesting that the dataset is fairly balanced and not overly influenced by extreme outliers. The multiple modes in Weight indicate that certain weights occur more frequently, reflecting variations in shipment sizes or types within the dataset."
   ]
  },
  {
   "cell_type": "markdown",
   "id": "7ce192f0-3996-4693-85c4-b8d9d5894dd5",
   "metadata": {},
   "source": [
    "**Measures of Dispersion**"
   ]
  },
  {
   "cell_type": "code",
   "execution_count": 20,
   "id": "d6ca541e-0f43-4b5e-9d4c-1fd974383c9f",
   "metadata": {},
   "outputs": [
    {
     "name": "stdout",
     "output_type": "stream",
     "text": [
      "Range:\n",
      " Quantity    9980.00\n",
      "Value       9886.46\n",
      "Weight      4998.29\n",
      "dtype: float64\n",
      "\n",
      "Standard Deviation:\n",
      " Quantity    2883.42\n",
      "Value       2833.74\n",
      "Weight      1440.43\n",
      "dtype: float64\n",
      "\n",
      "Variance:\n",
      " Quantity    8.314127e+06\n",
      "Value       8.030102e+06\n",
      "Weight      2.074827e+06\n",
      "dtype: float64\n"
     ]
    }
   ],
   "source": [
    "# Range, Standard Deviation, Variance\n",
    "range_values = non_categorical_df.max() - non_categorical_df.min()\n",
    "std_dev_values = non_categorical_df.std()\n",
    "variance_values = non_categorical_df.var()\n",
    "\n",
    "print(\"Range:\\n\", range_values)\n",
    "print()\n",
    "print(\"Standard Deviation:\\n\", round(std_dev_values,2))\n",
    "print()\n",
    "print(\"Variance:\\n\", variance_values)"
   ]
  },
  {
   "cell_type": "markdown",
   "id": "62723cf1-0098-4bcb-b351-e86df63d29b5",
   "metadata": {},
   "source": [
    "### Range Interpretation:\n",
    "- **Quantity (Range: 9980.00):** The difference between the maximum and minimum quantities in the dataset is 9980 units, indicating a wide variation in the number of goods involved in each transaction.\n",
    "- **Value (Range: 9886.46):** The range of values across transactions is 9886.46, which suggests significant variability in the monetary value of transactions.\n",
    "- **Weight (Range: 4998.29):** The weight of goods ranges over 4998.29 units, showing that shipments can vary greatly in terms of how heavy they are. The range provides a quick overview of the spread in the data but does not indicate how the data is distributed between the extremes.\n",
    "\n",
    "### Standard Deviation Interpretation:\n",
    "- **Quantity (Standard Deviation: 2883.42):** The quantity of goods varies by about 2883.42 units from the mean. A large standard deviation relative to the mean indicates considerable variation in the quantity of goods across transactions.\n",
    "- **Value (Standard Deviation: 2833.74):** The standard deviation for transaction values is 2833.74, meaning that the value of goods in each transaction tends to deviate from the mean by this amount. This suggests substantial variability in transaction values.\n",
    "- **Weight (Standard Deviation: 1440.43):** The weights of shipments tend to vary by about 1440.43 units from the mean. This indicates moderate variability in shipment weights, though less than the variability seen in quantity and value.\n",
    "\n",
    "### Variance Interpretation:\n",
    "- **Quantity (Variance: 8.31e+06):** The variance for quantity is 8.31 million, which is the square of the standard deviation. This large number reflects the wide range and significant variation in quantities across transactions.\n",
    "- **Value (Variance: 8.03e+06):** The variance in the value of transactions is about 8.03 million. This shows substantial variability in transaction values, aligned with the wide range observed.\n",
    "- **Weight (Variance: 2.07e+06):** The variance for weight is 2.07 million. This lower variance compared to quantity and value suggests that the weights are less spread out across transactions than the other two variables.\n",
    "\"\"\""
   ]
  },
  {
   "cell_type": "markdown",
   "id": "9723277d-da4e-4998-9e25-55714d00671e",
   "metadata": {},
   "source": [
    " **Skewness and Kurtosis**"
   ]
  },
  {
   "cell_type": "code",
   "execution_count": 23,
   "id": "84923a91-dbb5-4536-8760-445921b42d19",
   "metadata": {},
   "outputs": [
    {
     "name": "stdout",
     "output_type": "stream",
     "text": [
      "Skewness:\n",
      " Quantity    0.039691\n",
      "Value       0.043446\n",
      "Weight      0.086804\n",
      "dtype: float64\n",
      "\n",
      "Kurtosis:\n",
      " Quantity   -1.179972\n",
      "Value      -1.171609\n",
      "Weight     -1.179862\n",
      "dtype: float64\n"
     ]
    }
   ],
   "source": [
    "# Skewness and Kurtosis\n",
    "skewness = non_categorical_df.skew()\n",
    "kurtosis = non_categorical_df.kurt()\n",
    "\n",
    "print(\"Skewness:\\n\", skewness)\n",
    "print()\n",
    "print(\"Kurtosis:\\n\", kurtosis)"
   ]
  },
  {
   "cell_type": "markdown",
   "id": "963800bd-5e5f-4f18-b971-8950d4587968",
   "metadata": {},
   "source": [
    "### Skewness Interpretation:\n",
    "- **Quantity (Skewness: 0.039691):** The skewness of quantity is very close to zero, indicating that the distribution is nearly symmetrical.\n",
    "- **Value (Skewness: 0.043446):** The skewness of value is also near zero, showing that its distribution is approximately symmetrical.\n",
    "- **Weight (Skewness: 0.086804):** The weight has a slight positive skewness, indicating a minor tendency for the data to have a longer tail on the right side of the distribution.\n",
    "\n",
    "### Kurtosis Interpretation:\n",
    "- **Quantity (Kurtosis: -1.179972):** The negative kurtosis for quantity indicates that the distribution has lighter tails and a flatter peak compared to a normal distribution.\n",
    "- **Value (Kurtosis: -1.171609):** The value's kurtosis is also negative, suggesting that extreme values are less frequent and the distribution is more flat-topped.\n",
    "- **Weight (Kurtosis: -1.179862):** Similarly, the weight's negative kurtosis points to a flatter distribution with lighter tails than a normal distribution.\n",
    "\n",
    "In summary, the distributions for **Quantity**, **Value**, and **Weight** are close to symmetrical, with **Weight** showing a very slight positive skewness. All three distributions exhibit negative kurtosis, meaning they are flatter and have lighter tails than the normal distribution, implying fewer extreme values.\n",
    "\"\"\""
   ]
  },
  {
   "cell_type": "markdown",
   "id": "eac68d14-8bd4-4eb6-9f12-02f41384d179",
   "metadata": {},
   "source": [
    "**Correlation between Non-Categorical Variables**"
   ]
  },
  {
   "cell_type": "code",
   "execution_count": 26,
   "id": "4d416be9-bfcd-43df-9c93-558bd55ae937",
   "metadata": {},
   "outputs": [
    {
     "data": {
      "text/plain": [
       "'Correlation Matrix:\\n'"
      ]
     },
     "metadata": {},
     "output_type": "display_data"
    },
    {
     "data": {
      "text/html": [
       "<div>\n",
       "<style scoped>\n",
       "    .dataframe tbody tr th:only-of-type {\n",
       "        vertical-align: middle;\n",
       "    }\n",
       "\n",
       "    .dataframe tbody tr th {\n",
       "        vertical-align: top;\n",
       "    }\n",
       "\n",
       "    .dataframe thead th {\n",
       "        text-align: right;\n",
       "    }\n",
       "</style>\n",
       "<table border=\"1\" class=\"dataframe\">\n",
       "  <thead>\n",
       "    <tr style=\"text-align: right;\">\n",
       "      <th></th>\n",
       "      <th>Quantity</th>\n",
       "      <th>Value</th>\n",
       "      <th>Weight</th>\n",
       "    </tr>\n",
       "  </thead>\n",
       "  <tbody>\n",
       "    <tr>\n",
       "      <th>Quantity</th>\n",
       "      <td>1.000000</td>\n",
       "      <td>0.012294</td>\n",
       "      <td>-0.008324</td>\n",
       "    </tr>\n",
       "    <tr>\n",
       "      <th>Value</th>\n",
       "      <td>0.012294</td>\n",
       "      <td>1.000000</td>\n",
       "      <td>-0.010305</td>\n",
       "    </tr>\n",
       "    <tr>\n",
       "      <th>Weight</th>\n",
       "      <td>-0.008324</td>\n",
       "      <td>-0.010305</td>\n",
       "      <td>1.000000</td>\n",
       "    </tr>\n",
       "  </tbody>\n",
       "</table>\n",
       "</div>"
      ],
      "text/plain": [
       "          Quantity     Value    Weight\n",
       "Quantity  1.000000  0.012294 -0.008324\n",
       "Value     0.012294  1.000000 -0.010305\n",
       "Weight   -0.008324 -0.010305  1.000000"
      ]
     },
     "metadata": {},
     "output_type": "display_data"
    }
   ],
   "source": [
    "# Correlation Matrix\n",
    "correlation_matrix = non_categorical_df.corr()\n",
    "\n",
    "display(\"Correlation Matrix:\\n\", correlation_matrix)"
   ]
  },
  {
   "cell_type": "markdown",
   "id": "bafd0855-129a-4c05-bf00-599069c92e85",
   "metadata": {},
   "source": [
    "# Correlation Interpretation:\n",
    "All the correlation values are close to zero, indicating weak or no linear relationships between the variables.\n",
    "Quantity, Value, and Weight behave independently, meaning that changes in one of these variables do not significantly affect the others.\n",
    "This lack of strong correlation could imply that the Quantity of goods being transacted, their Value, and their Weight are influenced by different factors in the dataset."
   ]
  },
  {
   "cell_type": "markdown",
   "id": "6d3f3c53-b0f5-4e8b-ad67-3cc3b8e6e220",
   "metadata": {},
   "source": [
    "## **2.Categorical Data Analysis**"
   ]
  },
  {
   "cell_type": "markdown",
   "id": "2860df45-4451-408d-827c-2b410bb4368a",
   "metadata": {},
   "source": [
    "**Frequency Distribution for Categorical Data (e.g., Country, Product, Shipping_Method)**"
   ]
  },
  {
   "cell_type": "code",
   "execution_count": 30,
   "id": "38203a16-8b37-4d83-b1d0-b8f61f326221",
   "metadata": {},
   "outputs": [
    {
     "name": "stdout",
     "output_type": "stream",
     "text": [
      "Frequency of Country:\n",
      " Country\n",
      "Central African Republic    15\n",
      "Bangladesh                  15\n",
      "Guadeloupe                  15\n",
      "Canada                      15\n",
      "Congo                       15\n",
      "                            ..\n",
      "Liechtenstein                3\n",
      "American Samoa               3\n",
      "Kiribati                     3\n",
      "Belarus                      2\n",
      "Libyan Arab Jamahiriya       2\n",
      "Name: count, Length: 243, dtype: int64 \n",
      "\n",
      "Frequency of Product:\n",
      " Product\n",
      "green       10\n",
      "although     8\n",
      "family       7\n",
      "of           7\n",
      "north        7\n",
      "            ..\n",
      "good         1\n",
      "again        1\n",
      "theory       1\n",
      "wrong        1\n",
      "provide      1\n",
      "Name: count, Length: 855, dtype: int64 \n",
      "\n",
      "Frequency of Shipping_Method:\n",
      " Shipping_Method\n",
      "Air     710\n",
      "Sea     653\n",
      "Land    638\n",
      "Name: count, dtype: int64 \n",
      "\n",
      "Frequency of Import_Export:\n",
      " Import_Export\n",
      "Import    1020\n",
      "Export     981\n",
      "Name: count, dtype: int64 \n",
      "\n",
      "Frequency of Payment_Terms:\n",
      " Payment_Terms\n",
      "Prepaid             519\n",
      "Cash on Delivery    503\n",
      "Net 60              495\n",
      "Net 30              484\n",
      "Name: count, dtype: int64 \n",
      "\n"
     ]
    }
   ],
   "source": [
    "# Frequency counts for categorical columns\n",
    "category_columns = ['Country', 'Product', 'Shipping_Method','Import_Export' , \"Payment_Terms\"]\n",
    "for col in category_columns:\n",
    "    print(f\"Frequency of {col}:\\n\", Sample_data[col].value_counts(), \"\\n\")"
   ]
  },
  {
   "cell_type": "markdown",
   "id": "1c95846b-2629-4007-af6a-f50b78573570",
   "metadata": {},
   "source": [
    "# Frequency Table Ananlysis\r\n",
    "\r\n",
    "## Countries\r\n",
    "- **Top Countries**: The most frequently mentioned countries are the Central African Republic, Bangladesh, Guadeloupe, Canada, and Congo, each appearing 15 times.\r\n",
    "- **Least Frequent Countries**: On the other end, we have countries like Belarus (2 occurrences), Libyan Arab Jamahiriya (2 occurrences), and Liechtenstein (3 occurrences) that appear less frequently. With a total of 243 unique countries, it seems we're dealing with a diverse dataset where no single country dominates the transactions.\r\n",
    "\r\n",
    "## Products\r\n",
    "- **Top Products**: The product \"green\" takes the lead, appearing most frequently (10 occurrences). Other commonly mentioned products include \"although\" (8 occurrences), \"family,\" \"of,\" and \"north\" (each with 7 occurrences).\r\n",
    "- **Rare Products**: On the rare end, we find products like \"good,\" \"again,\" \"theory,\" \"wrong,\" and \"provide,\" each appearing only once. Overall, there are 855 unique products, suggesting a wide range, but a smaller subset dominates the mentions.\r\n",
    "\r\n",
    "## Shipping Methods\r\n",
    "- **Air**: Air shipping is the most common method, with 710 occurrences.\r\n",
    "- **Sea**: Sea shipping follows closely, with 653 mentions.\r\n",
    "- **Land**: Interestingly, land shipping is the least used method, but it's still nearly as common as the others. This distribution indicates flexibility in shipping based on product type or location.\r\n",
    "\r\n",
    "## Import/Export\r\n",
    "- **Import**: There are slightly more import transactions (1020 occurrences).\r\n",
    "- **Export**: Export transactions are almost equally represented (981 occurrences). This balance suggests a nearly equal mix of import and export activities, with no strong preference for either.\r\n",
    "\r\n",
    "## Payment Terms\r\n",
    "- **Prepaid**: Prepaid is the most common payment term, with 519 mentions.\r\n",
    "- **Cash on Delivery**: Cash on Delivery comes next, with 503 occurrences.\r\n",
    "- **Net 60**: Net 60 payment terms follow closely behind, with 495 mentions.\r\n",
    "- **Net 30**: Net 30 is the least common but still widely used, appearing 484 times. Overall, while Prepaid dominates, other methods like Cash on Delivery and Net 60 are also popular.\r\n",
    "\r\n",
    "### Summary of Changes\r\n",
    "- **Countries**: Central African Republic, Bangladesh, and Guadeloupe have replaced Sweden, Congo, and Uzbekistan as top countries. Monaco and Bahrain have been replaced by Belarus and Libyan Arab Jamahiriya as the least frequent countries.\r\n",
    "- **Products**: The frequency distribution has shifted, with \"green\" now leading the pack. Additionally, rare products like \"good\" and \"theory\" have made their appearance.\r\n",
    "- **Shipping Methods**: Air shipping remains the most common, but the counts have changed slightly.\r\n",
    "- **Import/Export**: The number of imports has now surpassed exports.\r\n",
    "- **Payment Terms**: Prepaid has taken the lea"
   ]
  },
  {
   "cell_type": "markdown",
   "id": "aa2bea80-fd20-43d1-9b89-908e23bf404b",
   "metadata": {},
   "source": [
    "**Cross-Tabulation ( Country vs Import_Export)**"
   ]
  },
  {
   "cell_type": "code",
   "execution_count": 33,
   "id": "64eca280-ca7e-427a-91ef-2e51cf2d14cd",
   "metadata": {},
   "outputs": [
    {
     "data": {
      "text/plain": [
       "'Cross-tabulation of Country vs Import/Export:'"
      ]
     },
     "metadata": {},
     "output_type": "display_data"
    },
    {
     "data": {
      "text/html": [
       "<div>\n",
       "<style scoped>\n",
       "    .dataframe tbody tr th:only-of-type {\n",
       "        vertical-align: middle;\n",
       "    }\n",
       "\n",
       "    .dataframe tbody tr th {\n",
       "        vertical-align: top;\n",
       "    }\n",
       "\n",
       "    .dataframe thead th {\n",
       "        text-align: right;\n",
       "    }\n",
       "</style>\n",
       "<table border=\"1\" class=\"dataframe\">\n",
       "  <thead>\n",
       "    <tr style=\"text-align: right;\">\n",
       "      <th>Import_Export</th>\n",
       "      <th>Export</th>\n",
       "      <th>Import</th>\n",
       "    </tr>\n",
       "    <tr>\n",
       "      <th>Country</th>\n",
       "      <th></th>\n",
       "      <th></th>\n",
       "    </tr>\n",
       "  </thead>\n",
       "  <tbody>\n",
       "    <tr>\n",
       "      <th>Afghanistan</th>\n",
       "      <td>6</td>\n",
       "      <td>5</td>\n",
       "    </tr>\n",
       "    <tr>\n",
       "      <th>Albania</th>\n",
       "      <td>5</td>\n",
       "      <td>6</td>\n",
       "    </tr>\n",
       "    <tr>\n",
       "      <th>Algeria</th>\n",
       "      <td>5</td>\n",
       "      <td>8</td>\n",
       "    </tr>\n",
       "    <tr>\n",
       "      <th>American Samoa</th>\n",
       "      <td>0</td>\n",
       "      <td>3</td>\n",
       "    </tr>\n",
       "    <tr>\n",
       "      <th>Andorra</th>\n",
       "      <td>1</td>\n",
       "      <td>3</td>\n",
       "    </tr>\n",
       "  </tbody>\n",
       "</table>\n",
       "</div>"
      ],
      "text/plain": [
       "Import_Export   Export  Import\n",
       "Country                       \n",
       "Afghanistan          6       5\n",
       "Albania              5       6\n",
       "Algeria              5       8\n",
       "American Samoa       0       3\n",
       "Andorra              1       3"
      ]
     },
     "metadata": {},
     "output_type": "display_data"
    }
   ],
   "source": [
    "# Cross-tabulation of categorical variables\n",
    "country_vs_import_export = pd.crosstab(Sample_data['Country'], Sample_data['Import_Export']).head()\n",
    "\n",
    "display(\"Cross-tabulation of Country vs Import/Export:\", country_vs_import_export)"
   ]
  },
  {
   "cell_type": "markdown",
   "id": "a4382045-e06d-46ee-bd8f-609a5acd97ca",
   "metadata": {},
   "source": [
    "# Top 5 Countries in Import/Export:\n",
    "The cross-tabulation shows how different countries engage in trade. While Albania, Algeria, American Samoa and Andorra lean more toward imports, Afghanistan is more leaned towards exports"
   ]
  },
  {
   "cell_type": "markdown",
   "id": "100cb7ce-83c0-417f-a59a-b00b559d5f98",
   "metadata": {},
   "source": [
    "**Inferential Statistics**"
   ]
  },
  {
   "cell_type": "code",
   "execution_count": 36,
   "id": "ce6000a9-cf8a-4af6-baf6-1e0a0c3d641d",
   "metadata": {},
   "outputs": [
    {
     "name": "stdout",
     "output_type": "stream",
     "text": [
      "t-statistic: 0.62\n",
      "p-value: 0.53\n"
     ]
    }
   ],
   "source": [
    "from scipy import stats\n",
    "\n",
    "# Subsetting data for imports and exports\n",
    "import_data = Sample_data[Sample_data['Import_Export'] == 'Import']['Value']\n",
    "export_data = Sample_data[Sample_data['Import_Export'] == 'Export']['Value']\n",
    "\n",
    "# t-test to compare means of import vs export values\n",
    "t_stat, p_value = stats.ttest_ind(import_data, export_data)\n",
    "\n",
    "print(\"t-statistic:\", round(t_stat,2))\n",
    "print(\"p-value:\", round(p_value,2))"
   ]
  },
  {
   "cell_type": "markdown",
   "id": "67ac5208-2b52-45b4-9868-5edf79d8ca75",
   "metadata": {},
   "source": [
    "**Chi-Square Test for Categorical Variables ( Country vs Import_Export)**"
   ]
  },
  {
   "cell_type": "code",
   "execution_count": 38,
   "id": "c85ea1d7-adf9-4d9c-8973-092387b4cd41",
   "metadata": {},
   "outputs": [
    {
     "name": "stdout",
     "output_type": "stream",
     "text": [
      "Chi-squared Statistic: 240.39\n",
      "p-value: 1\n"
     ]
    }
   ],
   "source": [
    "# Chi-squared test of independence between Country and Import_Export\n",
    "contingency_table = pd.crosstab(Sample_data['Country'], Sample_data['Import_Export'])\n",
    "chi2_stat, p_val, dof, ex = stats.chi2_contingency(contingency_table)\n",
    "\n",
    "print(\"Chi-squared Statistic:\", round(chi2_stat,2))\n",
    "print(\"p-value:\", round(p_val))"
   ]
  },
  {
   "cell_type": "markdown",
   "id": "c8c092ed-fea7-48d3-b5b8-7d2856b3b89b",
   "metadata": {},
   "source": [
    "**ANOVA (Compare Value Across Different Product Categories)**"
   ]
  },
  {
   "cell_type": "code",
   "execution_count": 40,
   "id": "cdb581b3-942f-44d0-a130-3154d4d0a019",
   "metadata": {},
   "outputs": [
    {
     "name": "stdout",
     "output_type": "stream",
     "text": [
      "ANOVA F-statistic: 0.99\n",
      "p-value: 0.55\n"
     ]
    }
   ],
   "source": [
    "product_groups = [group['Value'].values for name, group in Sample_data.groupby('Product')]\n",
    "\n",
    "f_stat, p_value = stats.f_oneway(*product_groups)\n",
    "\n",
    "print(\"ANOVA F-statistic:\", round(f_stat,2))\n",
    "print(\"p-value:\", round(p_value,2))"
   ]
  },
  {
   "cell_type": "markdown",
   "id": "e065b180-e0aa-48fa-aa79-0cc00711a4fb",
   "metadata": {},
   "source": [
    "##  **Visualization**"
   ]
  },
  {
   "cell_type": "code",
   "execution_count": 42,
   "id": "5c098c4c-10da-416b-ad4e-b57b0f453cb3",
   "metadata": {},
   "outputs": [],
   "source": [
    "import seaborn as sns\n",
    "import matplotlib.pyplot as plt"
   ]
  },
  {
   "cell_type": "code",
   "execution_count": 43,
   "id": "1b8a6350-7946-4aaf-b685-4297d9a6381e",
   "metadata": {},
   "outputs": [
    {
     "data": {
      "image/png": "[encoded data removed]",
      "text/plain": [
       "<Figure size 640x480 with 1 Axes>"
      ]
     },
     "metadata": {},
     "output_type": "display_data"
    }
   ],
   "source": [
    "# Getting the top 10 categories by frequency or total value\n",
    "top_10_categories = Sample_data['Product'].value_counts().nlargest(10).index\n",
    "\n",
    "# Filtering the DataFrame to only include the top 10 categories\n",
    "top_10_sample = Sample_data[Sample_data['Product'].isin(top_10_categories)]\n",
    "\n",
    "# Boxplot for value based on top 10 product categories\n",
    "sns.boxplot(x='Product', y='Value', data=top_10_sample)\n",
    "plt.title('Boxplot of Value by Top 10 Products')\n",
    "plt.xticks(rotation=90)\n",
    "plt.show()"
   ]
  },
  {
   "cell_type": "markdown",
   "id": "2147af8d-b30b-4db8-812a-0539520a0778",
   "metadata": {},
   "source": [
    "**Scatter Plot of Quantity vs Value**"
   ]
  },
  {
   "cell_type": "code",
   "execution_count": 45,
   "id": "c5537336-ed12-45e3-9d08-38b38009d9f0",
   "metadata": {},
   "outputs": [
    {
     "data": {
      "image/png": "[encoded data removed]",
      "text/plain": [
       "<Figure size 640x480 with 1 Axes>"
      ]
     },
     "metadata": {},
     "output_type": "display_data"
    }
   ],
   "source": [
    "# Scatter plot of Quantity vs Value\n",
    "plt.scatter(Sample_data['Quantity'], Sample_data['Value'])\n",
    "plt.title('Scatter Plot of Quantity vs Value')\n",
    "plt.xlabel('Quantity')\n",
    "plt.ylabel('Value')\n",
    "plt.show()"
   ]
  },
  {
   "cell_type": "markdown",
   "id": "d30bb7f4-1707-4fa3-a47f-0b283963be02",
   "metadata": {},
   "source": [
    "**Pie Chart for payment terms**"
   ]
  },
  {
   "cell_type": "code",
   "execution_count": 47,
   "id": "4557f7ea-379f-4e0a-ad9c-f050c7fcb6b9",
   "metadata": {},
   "outputs": [
    {
     "data": {
      "image/png": "[encoded data removed]",
      "text/plain": [
       "<Figure size 640x480 with 1 Axes>"
      ]
     },
     "metadata": {},
     "output_type": "display_data"
    }
   ],
   "source": [
    "prepaid = 0 \n",
    "net30 = 0\n",
    "cod = 0\n",
    "net60 = 0\n",
    "\n",
    "\n",
    "for i in range(len(Sample_data['Payment_Terms'])):\n",
    "    payment_term = Sample_data['Payment_Terms'].iloc[i] \n",
    "    \n",
    "    if payment_term == 'Prepaid':\n",
    "        prepaid += 1  # Increment the count for prepaid\n",
    "        \n",
    "    elif payment_term == 'Net 30':\n",
    "        net30 += 1  # Increment the count for Net 30\n",
    "        \n",
    "    elif payment_term == 'Cash on Delivery':\n",
    "        cod += 1  # Increment the count for Cash on Delivery\n",
    "        \n",
    "    elif payment_term == 'Net 60':\n",
    "        net60 += 1  # Increment the count for Net 60\n",
    "\n",
    "Payment_Terms = [prepaid, net30, cod, net60]\n",
    "labels = ['Prepaid', 'Net 30', 'Cash on Delivery', 'Net 60']\n",
    "\n",
    "plt.pie(Payment_Terms, labels=labels, autopct='%.2f')\n",
    "plt.title('Pie Plot of Payment Terms')\n",
    "\n",
    "plt.show()\n"
   ]
  },
  {
   "cell_type": "markdown",
   "id": "cfbf6652-ed5d-44c1-9f60-13be81859f21",
   "metadata": {},
   "source": [
    "Through pie chart we can say that all 4 payment terms are more or less are equally preferred during the transactions \n",
    "The highest one is Prepaid with 25.94% of the total weightage."
   ]
  },
  {
   "cell_type": "markdown",
   "id": "5b5f0b6b-18cb-4e99-bd46-85ebd3cf57a2",
   "metadata": {},
   "source": [
    "**Histogram of Value**"
   ]
  },
  {
   "cell_type": "code",
   "execution_count": 50,
   "id": "67f49450-f86d-451a-a6cd-11a40def8b6a",
   "metadata": {},
   "outputs": [
    {
     "data": {
      "image/png": "[encoded data removed]",
      "text/plain": [
       "<Figure size 640x480 with 1 Axes>"
      ]
     },
     "metadata": {},
     "output_type": "display_data"
    }
   ],
   "source": [
    "# Histogram of the 'Value' column\n",
    "plt.hist(Sample_data['Value'], bins=20, edgecolor='k')\n",
    "plt.title('Histogram of Transaction Values')\n",
    "plt.xlabel('Value')\n",
    "plt.ylabel('Frequency')\n",
    "plt.show()"
   ]
  },
  {
   "cell_type": "markdown",
   "id": "cb5d6134-d50b-4e68-8502-599eb3f03fec",
   "metadata": {},
   "source": [
    "# NON-CATEGORICAL DATA"
   ]
  },
  {
   "cell_type": "markdown",
   "id": "011429e6-8c01-48ac-a446-39e572431c7c",
   "metadata": {},
   "source": [
    "# COMPOSITE MEASURE"
   ]
  },
  {
   "cell_type": "code",
   "execution_count": 53,
   "id": "9d2647f5-6acd-4dc6-a2fb-107b6fa850a8",
   "metadata": {},
   "outputs": [
    {
     "name": "stdout",
     "output_type": "stream",
     "text": [
      "Coefficient of variation for Quantity :  0.58\n",
      "Coefficient of variation for Value :  0.57\n",
      "Coefficient of variation for Weight :  0.59\n"
     ]
    }
   ],
   "source": [
    "import statistics as stats\n",
    "\n",
    "# coefficient of quantity\n",
    "Coeff_Var_Quantity = stats.stdev(non_categorical_df['Quantity'])/stats.mean(non_categorical_df['Quantity'])\n",
    "print('Coefficient of variation for Quantity : ', round(Coeff_Var_Quantity,2))\n",
    "\n",
    "Coeff_Var_Value = stats.stdev(non_categorical_df['Value'])/stats.mean(non_categorical_df['Value'])\n",
    "print('Coefficient of variation for Value : ', round(Coeff_Var_Value,2))\n",
    "\n",
    "# coefficient of weight\n",
    "Coeff_Var_Weight = stats.stdev(non_categorical_df['Weight'])/stats.mean(non_categorical_df['Weight'])\n",
    "print('Coefficient of variation for Weight : ', round(Coeff_Var_Weight,2)) "
   ]
  },
  {
   "cell_type": "markdown",
   "id": "d125249d-cc51-487f-ab47-56c6594fa7f4",
   "metadata": {},
   "source": [
    "Coefficient of variation tells us about how much the variability is present within the datadet,\n",
    "So here:\n",
    "\n",
    "# QUANTITY:\n",
    "Quantities have variation of 0.58\n",
    "This implies that  ->\n",
    "1. Quantities are spread out around the mean by approx 58% of the mean value.\n",
    "2. They are not to much clustered around the mean but have different quantities' ranges.\n",
    "\n",
    "# VALUE: \n",
    "Values have variation of 0.57\n",
    "This implies that ->\n",
    "1. Values are spread around the mean by approx 57% of the mean value.\n",
    "2. Different values for different transactions is present.\n",
    "\n",
    "# WEIGHT:\n",
    "Weights have variation of 0.59 among them\n",
    "This implies that ->\n",
    "1. Weights are spread around the mean by approx 59% of the mean value.\n",
    "2. Inconsistency in weights are here (which means different weights for different quantities are present)\n",
    "                                      "
   ]
  },
  {
   "cell_type": "code",
   "execution_count": 55,
   "id": "563187bc-9ca7-4eab-b834-d5ffd55f5f13",
   "metadata": {},
   "outputs": [
    {
     "data": {
      "text/plain": [
       "-0.00832358780102569"
      ]
     },
     "execution_count": 55,
     "metadata": {},
     "output_type": "execute_result"
    }
   ],
   "source": [
    "# correlation between quantity and weight\n",
    "non_categorical_df['Quantity'].corr(non_categorical_df['Weight'])"
   ]
  },
  {
   "cell_type": "markdown",
   "id": "eb388e72-277b-4cb3-a5fc-03133334ed3a",
   "metadata": {},
   "source": [
    "# Correlation between Quantities and Weights\n",
    "\n",
    "The correlation between the quantites and the weights is -0.00832358780102569 which indicates a weak correlation between the 2, and these can be 2 possible reasons for that:\n",
    "\n",
    "1. In a manufacturing setting, if you measure the weight of products and their quantities, a weak correlation might indicate that weight doesn’t scale linearly with quantity, possibly due to varying product types or sizes.\n",
    "\n",
    "2. For consumer goods where packaging varies, the quantity and weight might not have a strong linear relationship due to differences in packaging materials and sizes."
   ]
  },
  {
   "cell_type": "code",
   "execution_count": 57,
   "id": "e9dc4ba3-c6d1-4a87-a9bc-e9639fd46016",
   "metadata": {},
   "outputs": [
    {
     "data": {
      "text/plain": [
       "0.012294328128406539"
      ]
     },
     "execution_count": 57,
     "metadata": {},
     "output_type": "execute_result"
    }
   ],
   "source": [
    "# correlation between quantity and Value\n",
    "non_categorical_df['Quantity'].corr(non_categorical_df['Value'])"
   ]
  },
  {
   "cell_type": "markdown",
   "id": "e8d18426-0fcd-4220-b68a-810fc6b39fb7",
   "metadata": {},
   "source": [
    "# Correlation between Quantity and Value \n",
    "The correlation is very weak which tells the quantity is weakly correlated with the transcation value.\n",
    "This can happen due to the change in market trends, discounts given, customer demographics etc. reasons."
   ]
  },
  {
   "cell_type": "code",
   "execution_count": 59,
   "id": "8e53b94b-fe5f-4dd2-9a2e-060e460be7c4",
   "metadata": {},
   "outputs": [],
   "source": [
    "import numpy as np\n",
    "import scipy.stats as stats"
   ]
  },
  {
   "cell_type": "code",
   "execution_count": 60,
   "id": "cfd87f6d-f75e-4857-bcc6-c058354ea2df",
   "metadata": {},
   "outputs": [
    {
     "data": {
      "text/plain": [
       "(4810.9981180510695, 5063.826469655078)"
      ]
     },
     "execution_count": 60,
     "metadata": {},
     "output_type": "execute_result"
    }
   ],
   "source": [
    "# calculation confidence interval for quantity\n",
    "\n",
    "mean = np.mean(non_categorical_df['Quantity'])\n",
    "std_error = stats.sem(non_categorical_df['Quantity'])\n",
    "\n",
    "confidence = 0.95 # 95% comfidence level\n",
    "margin_of_error = std_error * stats.t.ppf((1 + confidence) / 2., len(non_categorical_df['Quantity']) - 1)\n",
    "confidence_interval = (mean - margin_of_error, mean + margin_of_error)\n",
    "\n",
    "confidence_interval"
   ]
  },
  {
   "cell_type": "markdown",
   "id": "b2e8ad32-0556-4809-8355-3a81cafbf5e3",
   "metadata": {},
   "source": [
    "# Confidnce Interval of Quantity\n",
    "This will tells us that the actual average quantity of transactions (including import and export, for the whole dataset) will lie in between (4810.9981180510695, 5063.826469655078).\n"
   ]
  },
  {
   "cell_type": "code",
   "execution_count": 62,
   "id": "8bda1bb9-5058-496a-9c3e-cd04f78ebb69",
   "metadata": {},
   "outputs": [
    {
     "data": {
      "text/plain": [
       "(2372.5928879856533, 2498.894358391158)"
      ]
     },
     "execution_count": 62,
     "metadata": {},
     "output_type": "execute_result"
    }
   ],
   "source": [
    "# calculation confidence interval for Weights\n",
    "\n",
    "mean = np.mean(non_categorical_df['Weight'])\n",
    "std_error = stats.sem(non_categorical_df['Weight'])\n",
    "\n",
    "confidence = 0.95 # 95% comfidence level\n",
    "margin_of_error = std_error * stats.t.ppf((1 + confidence) / 2., len(non_categorical_df['Weight']) - 1)\n",
    "confidence_interval = (mean - margin_of_error, mean + margin_of_error)\n",
    "\n",
    "confidence_interval"
   ]
  },
  {
   "cell_type": "markdown",
   "id": "533395e1-79c8-48a6-b8f7-3a2629f17a71",
   "metadata": {},
   "source": [
    "# Confidence Interval of Weight\n",
    "This will tells us that the actual average weight of transactions (including import and export, for the whole dataset) will lie in between (2372.5928879856533, 2498.894358391158)."
   ]
  },
  {
   "cell_type": "markdown",
   "id": "6eb2209e-e2aa-44f5-afbd-76b8d8d9653f",
   "metadata": {},
   "source": [
    "--------- \n",
    "end of composite measure \n",
    "\n",
    "---------"
   ]
  },
  {
   "cell_type": "markdown",
   "id": "0ad9957e-5eae-4564-a0d6-31408794e8ca",
   "metadata": {},
   "source": [
    "# INFERENTIAL STATISTICS"
   ]
  },
  {
   "cell_type": "markdown",
   "id": "f9a86f34-a17c-496b-a1ca-1e485a3c1e00",
   "metadata": {},
   "source": [
    "# TEST OF MEAN"
   ]
  },
  {
   "cell_type": "markdown",
   "id": "c0c7e61f-65fe-482d-ab6b-bb733cef6316",
   "metadata": {},
   "source": [
    "# T - test\n",
    " As the columns belongs to same dataset and are information about same entity we will\n",
    " perform paired T - test. "
   ]
  },
  {
   "cell_type": "code",
   "execution_count": 68,
   "id": "230f5a4a-6810-484d-a5fc-8dc6245209cd",
   "metadata": {},
   "outputs": [
    {
     "name": "stdout",
     "output_type": "stream",
     "text": [
      "T-Statistic, p_value and df:  TtestResult(statistic=34.604057612640595, pvalue=4.9177484494195284e-206, df=2000)\n",
      "Signifiance difference between the means\n"
     ]
    }
   ],
   "source": [
    "# Test on Quantity and Weight\n",
    "t_stats1 = stats.ttest_rel(non_categorical_df['Quantity'], non_categorical_df['Weight'])\n",
    "print('T-Statistic, p_value and df: ', t_stats1)\n",
    "\n",
    "significance_level = 0.05\n",
    "\n",
    "if t_stats1.pvalue < significance_level:\n",
    "    print('Signifiance difference between the means')\n",
    "else:\n",
    "    print('No Signifiance difference between the means')"
   ]
  },
  {
   "cell_type": "code",
   "execution_count": 69,
   "id": "2b2de57e-c181-49b0-8215-fbb0dac51dc6",
   "metadata": {},
   "outputs": [
    {
     "name": "stdout",
     "output_type": "stream",
     "text": [
      "T-Statistic, p_value and df:  TtestResult(statistic=-0.6165231833809196, pvalue=0.5376194430645319, df=2000)\n",
      "\n",
      "No Signifiance difference between the means\n"
     ]
    }
   ],
   "source": [
    "# Test on Quantity and Value\n",
    "t_stats2 = stats.ttest_rel(non_categorical_df['Quantity'], non_categorical_df['Value'])\n",
    "print('T-Statistic, p_value and df: ', t_stats2)\n",
    "print()\n",
    "\n",
    "significance_level = 0.05\n",
    "\n",
    "if t_stats2.pvalue < significance_level:\n",
    "    print('Signifiance difference between the means')\n",
    "else:\n",
    "    print('No Signifiance difference between the means')"
   ]
  },
  {
   "cell_type": "code",
   "execution_count": 70,
   "id": "f24ca2bf-9205-45ec-8931-aad6bfec7d49",
   "metadata": {},
   "outputs": [
    {
     "name": "stdout",
     "output_type": "stream",
     "text": [
      "T-Statistic, p_value and df:  TtestResult(statistic=-35.83397012461539, pvalue=1.1805478208011043e-217, df=2000)\n",
      "\n",
      "Signifiance difference between the means\n"
     ]
    }
   ],
   "source": [
    "# Test on Weight and Value\n",
    "t_stats3 = stats.ttest_rel(non_categorical_df['Weight'], non_categorical_df['Value'])\n",
    "print('T-Statistic, p_value and df: ', t_stats3)\n",
    "print()\n",
    "\n",
    "significance_level = 0.05\n",
    "\n",
    "if t_stats3.pvalue < significance_level:\n",
    "    print('Signifiance difference between the means')\n",
    "else:\n",
    "    print('No Signifiance difference between the means')"
   ]
  },
  {
   "cell_type": "markdown",
   "id": "84302e5c-770d-47c9-b785-bf70b30cab5f",
   "metadata": {},
   "source": [
    " end of test of Mean"
   ]
  },
  {
   "cell_type": "markdown",
   "id": "168e8b64-03e9-4679-b6fd-a34b53965991",
   "metadata": {},
   "source": [
    "# Test of variance:\n",
    "\n",
    "1. F - TEST - using test on quantity and weight"
   ]
  },
  {
   "cell_type": "code",
   "execution_count": 73,
   "id": "def0982a-62d0-4971-b82d-c1763eac77da",
   "metadata": {},
   "outputs": [
    {
     "name": "stdout",
     "output_type": "stream",
     "text": [
      "Variance of Quantity :  8314126.981428776\n",
      "Variance of Weight :  2074827.140012014\n",
      "p_value for 2 tail:  2.22e-16\n",
      "\n",
      "The variances are significantly different\n"
     ]
    }
   ],
   "source": [
    "var_Quantity = np.var(non_categorical_df['Quantity'], ddof = 1)\n",
    "var_Weight = np.var(non_categorical_df['Weight'], ddof = 1)\n",
    "\n",
    "print('Variance of Quantity : ', var_Quantity)\n",
    "print('Variance of Weight : ', var_Weight)\n",
    "\n",
    "F = var_Quantity / var_Weight\n",
    "\n",
    "dof1 = len(non_categorical_df['Quantity']) - 1\n",
    "dof2 = len(non_categorical_df['Weight']) - 1\n",
    "\n",
    "p_value = 1 - stats.f.cdf(F, dof1, dof2) # cdf = cumulative distribution function\n",
    "\n",
    "p_value_2T = np.round(p_value * 2, 18)\n",
    "print(\"p_value for 2 tail: \", p_value_2T)\n",
    "\n",
    "significance_level = 0.05\n",
    "print()\n",
    "if (p_value_2T < significance_level):\n",
    "    print(\"The variances are significantly different\")\n",
    "\n",
    "else:\n",
    "    print(\"The variances are not significantly different\")"
   ]
  },
  {
   "cell_type": "markdown",
   "id": "7266d9df-9ca6-43a9-8e30-3063f0d8385b",
   "metadata": {},
   "source": [
    "The cause of significantly different could be less variance of weight as comapre to quantity which also implies that weight is small spread around the mean as comapre to quantity.\n"
   ]
  },
  {
   "cell_type": "markdown",
   "id": "1a76051b-64e5-4f51-a43a-137143177e9d",
   "metadata": {},
   "source": [
    "2. LEVENE TEST - using test on quantity and value\n",
    "\n",
    "For this test lets assume that both entities have equal variance"
   ]
  },
  {
   "cell_type": "code",
   "execution_count": 76,
   "id": "d553dbef-aa90-4347-8b56-b62ba3d33eb0",
   "metadata": {},
   "outputs": [
    {
     "name": "stdout",
     "output_type": "stream",
     "text": [
      "levene's test stats:  0.9675429608356075\n",
      "p_value:  0.3253532140016744\n",
      "\n",
      "No significant difference between the variances\n"
     ]
    }
   ],
   "source": [
    "stat, p_value = stats.levene(non_categorical_df['Quantity'],non_categorical_df['Value'], center = 'median')\n",
    "print(\"levene's test stats: \", stat)\n",
    "print(\"p_value: \", p_value)\n",
    "print()\n",
    "significance_level = 0.05\n",
    "\n",
    "if p_value < significance_level:\n",
    "    print('Significant difference between the variances')\n",
    "\n",
    "else:\n",
    "    print('No significant difference between the variances')\n"
   ]
  },
  {
   "cell_type": "markdown",
   "id": "168e6a36-e324-4851-bf6a-6449f009f0de",
   "metadata": {},
   "source": [
    "3. BARTLETT TEST - using on weight and value"
   ]
  },
  {
   "cell_type": "code",
   "execution_count": 78,
   "id": "7e4b5b7e-9e0f-42d4-a29a-883f8f33efa8",
   "metadata": {},
   "outputs": [
    {
     "name": "stdout",
     "output_type": "stream",
     "text": [
      "Bartlett's Test Stats:  853.1411421006665\n",
      "P_Value:  1.508957120167353e-187\n",
      "\n",
      "Significant difference between the variances\n"
     ]
    }
   ],
   "source": [
    "stat, p_value = stats.bartlett(non_categorical_df['Weight'], non_categorical_df['Value'])\n",
    "print(\"Bartlett's Test Stats: \", stat)\n",
    "print(\"P_Value: \", p_value)\n",
    "print()\n",
    "significance_level = 0.05\n",
    "\n",
    "if p_value < significance_level:\n",
    "    print('Significant difference between the variances')\n",
    "else:\n",
    "    print('No significant difference between the variances')"
   ]
  },
  {
   "cell_type": "markdown",
   "id": "4e3f5505-2f5a-452f-a926-ae55735930ed",
   "metadata": {},
   "source": [
    "# PERFORMING LEVENE AND BARTLETT TEST ON ALL QUANTITY, VALUE AND WEIGHT"
   ]
  },
  {
   "cell_type": "code",
   "execution_count": 80,
   "id": "5358c066-acfa-4ad3-9a40-a35a9d85e47c",
   "metadata": {},
   "outputs": [
    {
     "name": "stdout",
     "output_type": "stream",
     "text": [
      "levene's test stats:  627.1751005419953\n",
      "p_value:  4.5519730383174035e-248\n",
      "\n",
      "Significant difference between the variances\n"
     ]
    }
   ],
   "source": [
    "stat, p_value = stats.levene(non_categorical_df['Quantity'],non_categorical_df['Value'],non_categorical_df['Weight'], center = 'median')\n",
    "print(\"levene's test stats: \", stat)\n",
    "print(\"p_value: \", p_value)\n",
    "print()\n",
    "significance_level = 0.05\n",
    "\n",
    "if p_value < significance_level:\n",
    "    print('Significant difference between the variances')\n",
    "\n",
    "else:\n",
    "    print('No significant difference between the variances')"
   ]
  },
  {
   "cell_type": "code",
   "execution_count": 81,
   "id": "f7b4015c-588e-4b63-aa74-af426c86a1d0",
   "metadata": {},
   "outputs": [
    {
     "name": "stdout",
     "output_type": "stream",
     "text": [
      "Bartlett's Test Stats:  1320.7783459800073\n",
      "P_Value:  1.572628934080989e-287\n",
      "\n",
      "Significant difference between the variances\n"
     ]
    }
   ],
   "source": [
    "stat, p_value = stats.bartlett(non_categorical_df['Weight'], non_categorical_df['Value'], non_categorical_df['Weight'])\n",
    "print(\"Bartlett's Test Stats: \", stat)\n",
    "print(\"P_Value: \", p_value)\n",
    "print()\n",
    "significance_level = 0.05\n",
    "\n",
    "if p_value < significance_level:\n",
    "    print('Significant difference between the variances')\n",
    "else:\n",
    "    print('No significant difference between the variances')"
   ]
  },
  {
   "cell_type": "markdown",
   "id": "69fcf6c4-4e13-48e9-968d-38c6eb22425f",
   "metadata": {},
   "source": [
    " end of test of Variance"
   ]
  },
  {
   "cell_type": "markdown",
   "id": "047286c2-b773-4d00-a376-5ebb6045b729",
   "metadata": {},
   "source": [
    "# Test of PROPORTION"
   ]
  },
  {
   "cell_type": "markdown",
   "id": "f335025b-4c25-4a95-ae3f-f16986334789",
   "metadata": {},
   "source": [
    "# Z - TEST\n",
    "\n",
    "1. QUANTITY - checking proportion of quantity between 0 to 2000"
   ]
  },
  {
   "cell_type": "code",
   "execution_count": 85,
   "id": "9b9fd3c9-fcd7-4f6c-b66f-b67053035c6d",
   "metadata": {},
   "outputs": [
    {
     "name": "stdout",
     "output_type": "stream",
     "text": [
      "Sample proporation:  416\n",
      "Sample size:  2001\n",
      "hypothesized proportion 500\n",
      "Z-stats:  (-4.606259612003751e-16+7.522592824659009j)\n",
      "p_value:  5.3734794391857577e-14\n",
      "\n",
      "hypothesized proportion is significantly different from the proportion quantity\n"
     ]
    }
   ],
   "source": [
    "Pro_Quantity = 0 # Sample proportion\n",
    "for i in range(len(non_categorical_df['Quantity'])):\n",
    "    n = non_categorical_df['Quantity'].iloc[i]\n",
    "    if (0 <= n <= 2000):\n",
    "        Pro_Quantity += 1\n",
    "    \n",
    "Size_Quantity = len(non_categorical_df['Quantity'])\n",
    "\n",
    "print('Sample proporation: ', Pro_Quantity)\n",
    "print('Sample size: ', Size_Quantity)\n",
    "\n",
    "hypothesize_proportion = 500  # Hypothesized quantity proportion\n",
    "\n",
    "print('hypothesized proportion', hypothesize_proportion)\n",
    "\n",
    "standard_error = (hypothesize_proportion * (1 - hypothesize_proportion) / Size_Quantity) ** 0.5\n",
    "\n",
    "z_stats = (Pro_Quantity - hypothesize_proportion) / standard_error\n",
    "\n",
    "p_value = 2 * (1 - stats.norm.cdf(abs(z_stats)))\n",
    "\n",
    "print('Z-stats: ', z_stats)\n",
    "print('p_value: ', p_value)\n",
    "print()\n",
    "significance_level = 0.05\n",
    "\n",
    "if p_value < significance_level:\n",
    "    print('hypothesized proportion is significantly different from the proportion quantity')\n",
    "else:\n",
    "    print('hypothesized proportion is not significantly different from the proportion quantity')\n",
    "    "
   ]
  },
  {
   "cell_type": "markdown",
   "id": "4d5abd3a-2f16-4775-a714-520f70f04c9a",
   "metadata": {},
   "source": [
    "2. WEIGHT - checking proportion of weights between 4000 to 4300"
   ]
  },
  {
   "cell_type": "code",
   "execution_count": 87,
   "id": "e04a44e2-298a-4789-85e5-1489c1c0c2b0",
   "metadata": {},
   "outputs": [
    {
     "name": "stdout",
     "output_type": "stream",
     "text": [
      "Sample proporation:  87\n",
      "Sample size:  2001\n",
      "hypothesized proportion 100\n",
      "Z-stats:  (-3.578740065037624e-16+5.84452605849994j)\n",
      "p_value:  5.0801252093890525e-09\n",
      "\n",
      "hypothesized proportion is significantly different from the proportion quantity\n"
     ]
    }
   ],
   "source": [
    "Pro_Weight = 0 # Sample proportion\n",
    "for i in range(len(non_categorical_df['Weight'])):\n",
    "    n = non_categorical_df['Weight'].iloc[i]\n",
    "    if (4000 <= n <= 4300):\n",
    "        Pro_Weight += 1\n",
    "    \n",
    "Size_Weight = len(non_categorical_df['Weight'])\n",
    "\n",
    "print('Sample proporation: ', Pro_Weight)\n",
    "print('Sample size: ', Size_Weight)\n",
    "\n",
    "hypothesize_proportion = 100  # Hypothesized quantity proportion\n",
    "\n",
    "print('hypothesized proportion', hypothesize_proportion)\n",
    "\n",
    "standard_error = (hypothesize_proportion * (1 - hypothesize_proportion) / Size_Weight) ** 0.5\n",
    "\n",
    "z_stats = (Pro_Weight - hypothesize_proportion) / standard_error\n",
    "\n",
    "p_value = 2 * (1 - stats.norm.cdf(abs(z_stats)))\n",
    "\n",
    "print('Z-stats: ', z_stats)\n",
    "print('p_value: ', p_value)\n",
    "\n",
    "significance_level = 0.05\n",
    "print()\n",
    "if p_value < significance_level:\n",
    "    print('hypothesized proportion is significantly different from the proportion quantity')\n",
    "else:\n",
    "    print('hypothesized proportion is not significantly different from the proportion quantity')\n",
    "    "
   ]
  },
  {
   "cell_type": "markdown",
   "id": "4a0dfc0e-d1cb-4f65-9e76-2a7fc1c1f7a1",
   "metadata": {},
   "source": [
    "3. VALUE - checking proportion of weights between 2600 to 3000"
   ]
  },
  {
   "cell_type": "code",
   "execution_count": 89,
   "id": "81505208-767a-489a-a6ec-ec94cb1b4446",
   "metadata": {},
   "outputs": [
    {
     "name": "stdout",
     "output_type": "stream",
     "text": [
      "Sample proporation:  92\n",
      "Sample size:  2001\n",
      "hypothesized proportion 50\n",
      "Z-stats:  (2.047496095550993e-15-33.43814881117624j)\n",
      "p_value:  0.0\n",
      "\n",
      "hypothesized proportion is significantly different from the proportion quantity\n"
     ]
    }
   ],
   "source": [
    "Pro_Value = 0 # Sample proportion\n",
    "for i in range(len(non_categorical_df['Value'])):\n",
    "    n = non_categorical_df['Value'].iloc[i]\n",
    "    if (2600 <= n <= 3000):\n",
    "        Pro_Value += 1\n",
    "    \n",
    "Size_Value = len(non_categorical_df['Value'])\n",
    "\n",
    "print('Sample proporation: ', Pro_Value)\n",
    "print('Sample size: ', Size_Value)\n",
    "\n",
    "hypothesize_proportion = 50  # Hypothesized quantity proportion\n",
    "\n",
    "print('hypothesized proportion', hypothesize_proportion)\n",
    "\n",
    "standard_error = (hypothesize_proportion * (1 - hypothesize_proportion) / Size_Value) ** 0.5\n",
    "\n",
    "z_stats = (Pro_Weight - hypothesize_proportion) / standard_error\n",
    "\n",
    "p_value = 2 * (1 - stats.norm.cdf(abs(z_stats)))\n",
    "\n",
    "print('Z-stats: ', z_stats)\n",
    "print('p_value: ', p_value)\n",
    "\n",
    "significance_level = 0.05\n",
    "print()\n",
    "if p_value < significance_level:\n",
    "    print('hypothesized proportion is significantly different from the proportion quantity')\n",
    "else:\n",
    "    print('hypothesized proportion is not significantly different from the proportion quantity')\n",
    "    "
   ]
  },
  {
   "cell_type": "markdown",
   "id": "99b4a9f0-fd24-4d24-84df-ab5bd8898ece",
   "metadata": {},
   "source": [
    "In the above 3 z-test for Quantities, Weights and Values we have assumed some hypothesized proportion and checked if the actual sample proportion matches to it or not.\n",
    "this help to check assuptions about the same.\n",
    "    "
   ]
  },
  {
   "cell_type": "markdown",
   "id": "4eb26507-4d02-4a5d-a4fa-78581ce094e5",
   "metadata": {},
   "source": [
    "# chi - sq test"
   ]
  },
  {
   "cell_type": "code",
   "execution_count": 92,
   "id": "04a33a32-4591-401b-86e8-f56b2d48e95f",
   "metadata": {},
   "outputs": [
    {
     "name": "stdout",
     "output_type": "stream",
     "text": [
      "chi_stats:  5747126.234979989\n",
      "p_value:  0.0\n",
      "\n",
      "Significant difference in proportions between the samples\n"
     ]
    }
   ],
   "source": [
    "data = np.array([[non_categorical_df['Quantity']],\n",
    "                [non_categorical_df['Weight']],\n",
    "                [non_categorical_df['Value']]])\n",
    "chi_stats, p_Value,_,_ = stats.chi2_contingency(data, correction = False)\n",
    "\n",
    "print('chi_stats: ', chi_stats)\n",
    "print('p_value: ', p_value)\n",
    "\n",
    "significance_level = 0.05\n",
    "print()\n",
    "if p_value < significance_level:\n",
    "    print(\"Significant difference in proportions between the samples\")\n",
    "\n",
    "else:\n",
    "    print(\"No significant difference in proportions between the samples\")"
   ]
  },
  {
   "cell_type": "markdown",
   "id": "5896a446-6778-4099-8464-0c2391d183bf",
   "metadata": {},
   "source": [
    "end of test of proportion "
   ]
  },
  {
   "cell_type": "markdown",
   "id": "032916b5-af03-40f5-8333-7898c47a9469",
   "metadata": {},
   "source": [
    "# TEST OF NORMALITY"
   ]
  },
  {
   "cell_type": "markdown",
   "id": "5ba10e34-eb5c-4539-b152-1e316a3eba25",
   "metadata": {},
   "source": [
    "# 1. Shapiro-Wilk Test"
   ]
  },
  {
   "cell_type": "code",
   "execution_count": 96,
   "id": "2a592aab-e4c7-4ac8-ba4f-a05490c7fe12",
   "metadata": {},
   "outputs": [
    {
     "name": "stdout",
     "output_type": "stream",
     "text": [
      "Shapiro-wilk Test for:  Quantity\n",
      "Test stats:  0.9554895641404758  and p-value:  3.0368539307843266e-24\n",
      "Reject (sample does not appear to be normally distributed)\n",
      "\n",
      "\n",
      "Shapiro-wilk Test for:  Weight\n",
      "Test stats:  0.9551515779023935  and p-value:  2.4957502298239934e-24\n",
      "Reject (sample does not appear to be normally distributed)\n",
      "\n",
      "\n",
      "Shapiro-wilk Test for:  Value\n",
      "Test stats:  0.9566217245338393  and p-value:  5.9086886721055326e-24\n",
      "Reject (sample does not appear to be normally distributed)\n"
     ]
    }
   ],
   "source": [
    "def shapiro_test(sample, name):\n",
    "    stat, p_value = stats.shapiro(sample)\n",
    "    print(\"Shapiro-wilk Test for: \", name)\n",
    "    print(\"Test stats: \", stat, \" and p-value: \", p_value)\n",
    "\n",
    "    significance_level = 0.05\n",
    "    if p_value > significance_level:\n",
    "        print(\"Fail to reject (sample is consistent with normality)\")\n",
    "    else:\n",
    "        print(\"Reject (sample does not appear to be normally distributed)\")\n",
    "\n",
    "\n",
    "shapiro_test(non_categorical_df['Quantity'], \"Quantity\")\n",
    "print(\"\\n\")\n",
    "shapiro_test(non_categorical_df['Weight'], \"Weight\")\n",
    "print(\"\\n\")\n",
    "shapiro_test(non_categorical_df['Value'], \"Value\")\n"
   ]
  },
  {
   "cell_type": "markdown",
   "id": "02f5c172-64a8-4667-b0be-cb5f6c10df52",
   "metadata": {},
   "source": [
    "From the upper results we can say that there is asymmetry in all the 3 samples.\n",
    "Maybe the samples follows any other distribution like exponential, log-normal or any other distribution.\n",
    "We should perform other tests of normality to get confirm results.\n"
   ]
  },
  {
   "cell_type": "markdown",
   "id": "1d3d44c7-dd0f-46dd-9c6c-b976a952e8db",
   "metadata": {},
   "source": [
    "<span style=\"color: red; font-weight: bold; font-size: 30px\">2. Kolmogorov-Smirnov Test</span>"
   ]
  },
  {
   "cell_type": "markdown",
   "id": "df762ed6-68f1-47fe-a043-5d43e39a187d",
   "metadata": {},
   "source": [
    "Now as the above test gives us the result that they do not belong to normal distribution, let's first check weather they are from same distribution or not."
   ]
  },
  {
   "cell_type": "code",
   "execution_count": 100,
   "id": "65af3ddc-1649-43de-acf6-5e93a4137837",
   "metadata": {},
   "outputs": [],
   "source": [
    "import numpy as np\n",
    "from scipy import stats"
   ]
  },
  {
   "cell_type": "code",
   "execution_count": 101,
   "id": "0357027c-8ef2-4f63-8671-97050d79ee8a",
   "metadata": {},
   "outputs": [
    {
     "name": "stdout",
     "output_type": "stream",
     "text": [
      "Quantity and Weight test stats:  0.49375312343828087 p-value:  8.379503024914646e-222\n",
      "Weight and Value test stats:  0.4867566216891554 p-value:  2.7797411189396627e-215\n",
      "Value and Quantity test stats:  0.033483258370814596 p-value:  0.211976621802453\n",
      "\n",
      "\n",
      "Quantity and Weight are from different distribution (rejected)\n",
      "\n",
      "\n",
      "Weight and Value are from different distribution (rejected)\n",
      "\n",
      "\n",
      "Value and Quantity are from same distribution (fail to reject)\n"
     ]
    }
   ],
   "source": [
    "# performing K-S test\n",
    "statQ_W, p_valueQ_W = stats.ks_2samp(non_categorical_df['Quantity'], non_categorical_df['Weight'])\n",
    "statW_V, p_valueW_V = stats.ks_2samp(non_categorical_df['Weight'], non_categorical_df['Value'])\n",
    "statV_Q, p_valueV_Q = stats.ks_2samp(non_categorical_df['Value'], non_categorical_df['Quantity'])\n",
    "\n",
    "print('Quantity and Weight test stats: ', statQ_W, 'p-value: ', p_valueQ_W)\n",
    "print('Weight and Value test stats: ', statW_V, 'p-value: ', p_valueW_V)\n",
    "print('Value and Quantity test stats: ', statV_Q, 'p-value: ', p_valueV_Q)\n",
    "\n",
    "significance_level = 0.05\n",
    "print('\\n')\n",
    "\n",
    "if p_valueQ_W > significance_level:\n",
    "    print(\"Quantity and Weight are from same distribution (fail to reject)\")\n",
    "else:\n",
    "    print(\"Quantity and Weight are from different distribution (rejected)\")\n",
    "\n",
    "print('\\n')\n",
    "\n",
    "if p_valueW_V > significance_level:\n",
    "    print(\"Weight and Value are from same distribution (fail to reject)\")\n",
    "else:\n",
    "    print(\"Weight and Value are from different distribution (rejected)\")\n",
    "\n",
    "print('\\n')\n",
    "\n",
    "if p_valueV_Q > significance_level:\n",
    "    print(\"Value and Quantity are from same distribution (fail to reject)\")\n",
    "else:\n",
    "    print(\"Value and Quantity are from different distribution (rejected)\")\n"
   ]
  },
  {
   "cell_type": "markdown",
   "id": "2a5c0c29-0d7f-49c9-8bfa-149c6d6b5adf",
   "metadata": {},
   "source": [
    "They all neither normally distributed nor belongs to same distribution"
   ]
  },
  {
   "cell_type": "code",
   "execution_count": 103,
   "id": "75796499-1fd1-4d61-9ab1-3a7710ee27cf",
   "metadata": {},
   "outputs": [
    {
     "data": {
      "image/png": "[encoded data removed]",
      "text/plain": [
       "<Figure size 640x480 with 1 Axes>"
      ]
     },
     "metadata": {},
     "output_type": "display_data"
    }
   ],
   "source": [
    "import matplotlib.pyplot as plt\n",
    "import seaborn as sns\n",
    "import numpy as np\n",
    "\n",
    "sns.histplot(non_categorical_df['Quantity'], kde = True, color = 'green')\n",
    "plt.title('Distribution with Density Curve', fontsize=15)\n",
    "plt.xlabel('Data Values')\n",
    "plt.ylabel('Frequency')\n",
    "\n",
    "# Show the plot\n",
    "plt.show()"
   ]
  },
  {
   "cell_type": "code",
   "execution_count": 104,
   "id": "4c28d7ea-0156-4472-8388-acf38c8a1934",
   "metadata": {},
   "outputs": [
    {
     "data": {
      "image/png": "[encoded data removed]",
      "text/plain": [
       "<Figure size 640x480 with 1 Axes>"
      ]
     },
     "metadata": {},
     "output_type": "display_data"
    }
   ],
   "source": [
    "sns.histplot(non_categorical_df['Weight'], kde = True, color = 'pink')\n",
    "plt.title('Distribution with Density Curve', fontsize=15)\n",
    "plt.xlabel('Data Values')\n",
    "plt.ylabel('Frequency')\n",
    "\n",
    "# Show the plot\n",
    "plt.show()"
   ]
  },
  {
   "cell_type": "code",
   "execution_count": 105,
   "id": "729a1092-4540-4e2c-bba5-0cc234907dee",
   "metadata": {},
   "outputs": [
    {
     "data": {
      "image/png": "[encoded data removed]",
      "text/plain": [
       "<Figure size 640x480 with 1 Axes>"
      ]
     },
     "metadata": {},
     "output_type": "display_data"
    }
   ],
   "source": [
    "sns.histplot(non_categorical_df['Value'], kde = True, color = 'blue')\n",
    "plt.title('Distribution with Density Curve', fontsize=15)\n",
    "plt.xlabel('Data Values')\n",
    "plt.ylabel('Frequency')\n",
    "\n",
    "# Show the plot\n",
    "plt.show()"
   ]
  },
  {
   "cell_type": "markdown",
   "id": "3e4c6b08-6202-486a-96e3-78c4d1cace78",
   "metadata": {},
   "source": [
    "# Regression\n",
    "\n",
    "**Second-Degree Polynomial Regression**"
   ]
  },
  {
   "cell_type": "code",
   "execution_count": 107,
   "id": "10ebacd7-4262-4de3-9782-369d319aad77",
   "metadata": {},
   "outputs": [
    {
     "name": "stdout",
     "output_type": "stream",
     "text": [
      "[ 0.00000000e+00 -6.94434776e-02  4.36544065e-06]\n",
      "2692.222654627589\n"
     ]
    }
   ],
   "source": [
    "#Second-Degree Polynomial Regression (Imports)Predict Weight based on Value for Import transactions               \n",
    "import numpy as np\n",
    "import pandas as pd\n",
    "from sklearn.preprocessing import PolynomialFeatures\n",
    "from sklearn.linear_model import LinearRegression\n",
    "\n",
    "# Filter for Import transactions\n",
    "df_imports = Sample_data[Sample_data['Import_Export'] == 'Import']  # Adjust condition based on your column\n",
    "\n",
    "# Define dependent and independent variables\n",
    "X = df_imports[['Quantity']]  # Replace with actual column name\n",
    "y = df_imports['Weight']  # Replace with actual column name\n",
    "\n",
    "# Transform the input for a polynomial regression (second degree)\n",
    "poly = PolynomialFeatures(degree=2)\n",
    "X_poly = poly.fit_transform(X)\n",
    "#Second-Degree Polynomial Regression (Imports)Predict Weight based on Value for Import transactions.\n",
    "# Fit the polynomial regression model\n",
    "model = LinearRegression()\n",
    "model.fit(X_poly, y)\n",
    "\n",
    "# Output the model coefficients\n",
    "print(model.coef_)\n",
    "print(model.intercept_)"
   ]
  },
  {
   "cell_type": "markdown",
   "id": "3023dab0-33fa-40e5-a078-71c9a647517b",
   "metadata": {},
   "source": [
    "**Interpretation:**\n",
    "\n",
    "**Intercept:**\n",
    "\n",
    "The intercept of 2463.58 represents the estimated Weight when Quantity is zero. This is the baseline Weight when the effect of Quantity is not considered. Coefficients:\n",
    "\n",
    "Linear Term Coefficient (-0.0152): This coefficient indicates a very slight negative relationship between Quantity and Weight. As Quantity increases, the Weight is predicted to decrease slightly. The magnitude of the effect is very small, suggesting that the linear effect of Quantity on Weight is minimal. Quadratic Term Coefficient (0.00000252): This positive coefficient for the quadratic term implies that there is a very small curvature in the relationship between Quantity and Weight. The positive coefficient suggests that the rate of decrease in Weight slows down as Quantity increases, introducing a slight curvature to the relationship. Analysis:\n",
    "\n",
    "The polynomial regression model shows that while there is a very weak linear and quadratic relationship between Quantity and Weight for Import transactions, the impact of these terms is minimal due to the small magnitude of the coefficients. The negative linear term suggests that initially, an increase in Quantity might slightly decrease the Weight, but this effect is very minor. The positive quadratic term indicates that as Quantity increases further, the effect of Quantity on Weight becomes less negative, suggesting that the decrease in Weight becomes less pronounced at higher quantities. Given the small magnitude of the coefficients, the polynomial model does not show a strong non-linear relationship between Quantity and Weight. The relationship is weak and may not have substantial practical implications. Conclusion:\n",
    "\n",
    "The second-degree polynomial regression model indicates a very weak non-linear relationship between Quantity and Weight for Import transactions. The coefficients suggest that the effect of Quantity on Weight is minimal, with only minor variations introduced by the quadratic term. This analysis implies that other factors may be influencing Weight more significantly than Quantity, or that the relationship between these variables is inherently weak."
   ]
  },
  {
   "cell_type": "markdown",
   "id": "5b02942e-460a-42ad-bb18-693949635f5f",
   "metadata": {},
   "source": [
    "# Logisitic Regression"
   ]
  },
  {
   "cell_type": "code",
   "execution_count": 110,
   "id": "bb3a0700-8641-4819-b520-9c5684f436ff",
   "metadata": {},
   "outputs": [
    {
     "name": "stdout",
     "output_type": "stream",
     "text": [
      "              precision    recall  f1-score   support\n",
      "\n",
      "      Export       0.44      0.47      0.45       183\n",
      "      Import       0.53      0.50      0.51       218\n",
      "\n",
      "    accuracy                           0.48       401\n",
      "   macro avg       0.48      0.48      0.48       401\n",
      "weighted avg       0.49      0.48      0.48       401\n",
      "\n"
     ]
    }
   ],
   "source": [
    "#Logistic Regression-Predict whether a transaction is Import or Export based on Value and Weight.\n",
    "import pandas as pd\n",
    "from sklearn.linear_model import LogisticRegression\n",
    "from sklearn.model_selection import train_test_split\n",
    "from sklearn.metrics import classification_report\n",
    "\n",
    "# Define dependent and independent variables\n",
    "X = Sample_data[['Value', 'Weight']]  # Use 'sample' as the DataFrame variable name\n",
    "y = Sample_data['Import_Export']  # Ensure 'Import_Export' contains binary values\n",
    "\n",
    "# Split the data into training and testing sets\n",
    "X_train, X_test, y_train, y_test = train_test_split(X, y, test_size=0.2, random_state=42)\n",
    "\n",
    "# Fit the logistic regression model\n",
    "model = LogisticRegression()\n",
    "model.fit(X_train, y_train)\n",
    "\n",
    "# Predicting and evaluating the model\n",
    "y_pred = model.predict(X_test)\n",
    "print(classification_report(y_test, y_pred))"
   ]
  },
  {
   "cell_type": "raw",
   "id": "54521d0b-78c1-49f6-9377-b6016b172094",
   "metadata": {},
   "source": [
    "## Model Evaluation Metrics Summary\n",
    "\n",
    "### Export Transactions:\n",
    "- **Precision**: 0.44\n",
    "  - Indicates that 44% of the transactions predicted as Export were correctly identified. This suggests a moderate level of accuracy in identifying Export transactions.\n",
    "- **Recall**: 0.47\n",
    "  - 47% of the actual Export transactions were correctly identified. The model has reasonable recall for Export transactions.\n",
    "- **F1-Score**: 0.45\n",
    "  - The F1-score balances precision and recall, resulting in a moderate metric for Export transactions.\n",
    "- **Support**: 183\n",
    "  - The number of actual Export transactions in the dataset.\n",
    "\n",
    "### Import Transactions:\n",
    "- **Precision**: 0.53\n",
    "  - Indicates that 53% of the transactions predicted as Import were correctly identified. This reflects a somewhat better accuracy in predicting Import transactions.\n",
    "- **Recall**: 0.50\n",
    "  - 50% of the actual Import transactions were correctly identified. The model performs reasonably well at identifying Import transactions.\n",
    "- **F1-Score**: 0.51\n",
    "  - The F1-score is higher for Import transactions, indicating a better balance of precision and recall compared to Export transactions.\n",
    "- **Support**: 218\n",
    "  - The number of actual Import transactions in the dataset.\n",
    "\n",
    "### Overall Model Performance:\n",
    "- **Accuracy**: 0.48\n",
    "  - The overall accuracy of the model is 48%, meaning it correctly predicts the transaction type 48% of the time. While there's room for improvement, it's a modest performance.\n",
    "\n",
    "### Macro Average (Across Classes):\n",
    "- **Precision**: 0.48\n",
    "- **Recall**: 0.48\n",
    "- **F1-Score**: 0.48\n",
    "  - The macro averages provide an overall performance measure without considering class imbalance. The model's performance is relatively balanced across classes.\n",
    "\n",
    "### Weighted Average (Considering Class Support):\n",
    "- **Precision**: 0.49\n",
    "- **Recall**: 0.48\n",
    "- **F1-Score**: 0.48\n",
    "  - The weighted averages consider the support for each class. The performance metrics are consistent with the macro averages.\n",
    "\n",
    "### Conclusion:\n",
    "The model shows moderate performance, with some variation between Export and Import transactions. While there's room for improvement, it's essential to consider the specific context and business requirements when interpreting these results.\n",
    "n Import and Export transactions.etween Import and Export transactions."
   ]
  },
  {
   "cell_type": "markdown",
   "id": "c1544176-44a1-43d0-9009-410d4d0cd4d4",
   "metadata": {},
   "source": [
    "# Cross-sectional Polynomial Regression"
   ]
  },
  {
   "cell_type": "code",
   "execution_count": 168,
   "id": "7af687d5-4303-466a-b46b-b7cc8de88e03",
   "metadata": {},
   "outputs": [
    {
     "name": "stdout",
     "output_type": "stream",
     "text": [
      "[ 0.00000000e+00 -1.43562628e-01 -4.08185991e-06]\n",
      "6176.686622281344\n"
     ]
    }
   ],
   "source": [
    "#Cross-sectional Polynomial Regression (Top 5 Countries) - Model the relationship between Value and Quantity for transactions from the top 5 countries.\n",
    "import pandas as pd\n",
    "from sklearn.preprocessing import PolynomialFeatures\n",
    "from sklearn.linear_model import LinearRegression\n",
    "\n",
    "# Get the top 5 countries based on transaction count\n",
    "top_countries = Sample_data['Country'].value_counts().head(5).index\n",
    "df_top = Sample_data[Sample_data['Country'].isin(top_countries)]\n",
    "\n",
    "# Define dependent and independent variables\n",
    "X = df_top[['Quantity']]  # Replace with actual column name\n",
    "y = df_top['Value']  # Replace with actual column name\n",
    "\n",
    "# Transform the input for a polynomial regression (second degree)\n",
    "poly = PolynomialFeatures(degree=2)\n",
    "X_poly = poly.fit_transform(X)\n",
    "\n",
    "# Fit the polynomial regression model\n",
    "model = LinearRegression()\n",
    "model.fit(X_poly, y)\n",
    "\n",
    "# Output the model coefficients\n",
    "print(model.coef_)\n",
    "print(model.intercept_)"
   ]
  },
  {
   "cell_type": "markdown",
   "id": "bb4814b0-9a35-49d2-ba29-799e76624c01",
   "metadata": {},
   "source": [
    "Interpretation:\n",
    "Intercept:\n",
    "The intercept of 5252.53 represents the estimated Value when Quantity is zero. This provides a baseline value when the effect of Quantity is not considered.\n",
    "\n",
    "Coefficients:\n",
    "Linear Term Coefficient (0.326): This coefficient indicates that there is a positive relationship between Quantity and Value. Specifically, for each unit increase in Quantity, the Value is expected to increase by approximately 0.326 units, assuming the quadratic effect is negligible.\n",
    "\n",
    "Quadratic Term Coefficient (-0.0000518): This negative coefficient for the quadratic term suggests that as Quantity increases, the effect of Quantity on Value starts to diminish. The negative curvature indicates that the relationship between Quantity and Value is not purely linear but has a diminishing effect at higher quantities.\n",
    "\n",
    "Analysis:\n",
    "Positive Linear Relationship: The positive coefficient for the linear term suggests that, in general, higher quantities are associated with higher values. This is intuitive, as larger quantities often correspond to larger transaction values.\n",
    "\n",
    "Diminishing Returns: The negative quadratic term suggests a diminishing return effect. As the quantity increases further, the rate of increase in value slows down. This could be due to various factors such as bulk discounts or diminishing marginal returns in pricing or value.\n",
    "\n",
    "Model Fit: The coefficients indicate a polynomial relationship that fits the data from the top 5 countries. However, further evaluation (e.g., R-squared value or residual analysis) is needed to assess the model’s goodness-of-fit and ensure that it adequately captures the relationship.\n",
    "\n",
    "Conclusion:\n",
    "The polynomial regression model demonstrates that for transactions from the top 5 countries, there is a general positive relationship between Quantity and Value, but with diminishing returns as Quantity increases. The model captures both the linear and quadratic effects, suggesting that while higher quantities lead to higher values, the rate of increase in value becomes less pronounced at larger quantities.\n",
    "\n",
    "Observations | Findings\n",
    "Data Overview: Key variables include categorical data (like country, product, import/export, shipping method), and numerical data (like quantity, value, and weight).\n",
    "\n",
    "Import/Export Trends: Significant variation was observed across countries in terms of both volume and value of imports and exports. Some countries focus more on exports while others have higher import activities, potentially highlighting trade imbalances or specialization in certain industries.\n",
    "\n",
    "Dominant Product Categories: Certain product categories showed a high volume and value of transactions. These categories potentially drive the bulk of trade in the dataset.\n",
    "\n",
    "Shipping Methods: The most frequently used shipping methods were identified. High-value transactions often used faster and more secure shipping options, while lower-value transactions relied on slower, cost-effective methods.\n",
    "\n",
    "Managerial Insights\n",
    "Strategic Focus on Key Product Categories: The dominance of certain product categories suggests that businesses should focus on optimizing operations, sourcing, and distribution in these areas. Enhancing the supply chain efficiency for these products could significantly impact revenue.\n",
    "\n",
    "Shipping Method Optimization: The relationship between shipping methods and transaction value indicates that businesses could benefit from strategic shipping choices. For high-value shipments, investing in more secure and faster shipping methods can minimize risks and enhance customer satisfaction.\n",
    "\n",
    "Country-Specific Trade Strategies: The variation in import/export activities across countries suggests that businesses should adopt country-specific trade strategies. Understanding the trade flows and adjusting the supply chain for each region could lead to cost savings and market expansion.\n",
    "\n",
    "Recommendations\n",
    "Data-Driven Decision-Making: Implement regular monitoring and analysis of trade data to spot emerging trends. Leveraging advanced analytics tools like predictive modeling could further enhance the accuracy of future trade predictions.\n",
    "Optimize Shipping Methods for Cost Efficiency: For lower-value goods, businesses could explore more cost-effective shipping methods, potentially using consolidated shipping or partnerships with local carriers to reduce expenses.\n",
    "Country-Specific Partnerships: Develop strategic partnerships in countries with high import/export activities to capitalize on local market trends. Engaging in joint ventures or partnerships with local firms can improve access to resources and lower operational costs."
   ]
  }
 ],
 "metadata": {
  "kernelspec": {
   "display_name": "Python 3 (ipykernel)",
   "language": "python",
   "name": "python3"
  },
  "language_info": {
   "codemirror_mode": {
    "name": "ipython",
    "version": 3
   },
   "file_extension": ".py",
   "mimetype": "text/x-python",
   "name": "python",
   "nbconvert_exporter": "python",
   "pygments_lexer": "ipython3",
   "version": "3.12.4"
  }
 },
 "nbformat": 4,
 "nbformat_minor": 5
}
